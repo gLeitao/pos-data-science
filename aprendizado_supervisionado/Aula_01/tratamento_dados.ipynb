{
 "cells": [
  {
   "cell_type": "code",
   "execution_count": 1,
   "metadata": {},
   "outputs": [],
   "source": [
    "import pandas as pd\n",
    "import matplotlib.pyplot as plt \n",
    "import numpy as np"
   ]
  },
  {
   "cell_type": "code",
   "execution_count": 2,
   "metadata": {},
   "outputs": [],
   "source": [
    "df_insurance = pd.read_csv('insurance.csv', sep=',')"
   ]
  },
  {
   "cell_type": "code",
   "execution_count": 3,
   "metadata": {},
   "outputs": [
    {
     "data": {
      "text/html": [
       "<div>\n",
       "<style scoped>\n",
       "    .dataframe tbody tr th:only-of-type {\n",
       "        vertical-align: middle;\n",
       "    }\n",
       "\n",
       "    .dataframe tbody tr th {\n",
       "        vertical-align: top;\n",
       "    }\n",
       "\n",
       "    .dataframe thead th {\n",
       "        text-align: right;\n",
       "    }\n",
       "</style>\n",
       "<table border=\"1\" class=\"dataframe\">\n",
       "  <thead>\n",
       "    <tr style=\"text-align: right;\">\n",
       "      <th></th>\n",
       "      <th>age</th>\n",
       "      <th>sex</th>\n",
       "      <th>bmi</th>\n",
       "      <th>children</th>\n",
       "      <th>smoker</th>\n",
       "      <th>region</th>\n",
       "      <th>charges</th>\n",
       "    </tr>\n",
       "  </thead>\n",
       "  <tbody>\n",
       "    <tr>\n",
       "      <th>0</th>\n",
       "      <td>19</td>\n",
       "      <td>female</td>\n",
       "      <td>27.900</td>\n",
       "      <td>0</td>\n",
       "      <td>yes</td>\n",
       "      <td>southwest</td>\n",
       "      <td>16884.92400</td>\n",
       "    </tr>\n",
       "    <tr>\n",
       "      <th>1</th>\n",
       "      <td>18</td>\n",
       "      <td>male</td>\n",
       "      <td>33.770</td>\n",
       "      <td>1</td>\n",
       "      <td>no</td>\n",
       "      <td>southeast</td>\n",
       "      <td>1725.55230</td>\n",
       "    </tr>\n",
       "    <tr>\n",
       "      <th>2</th>\n",
       "      <td>28</td>\n",
       "      <td>man</td>\n",
       "      <td>33.000</td>\n",
       "      <td>3</td>\n",
       "      <td>no</td>\n",
       "      <td>southeast</td>\n",
       "      <td>4449.46200</td>\n",
       "    </tr>\n",
       "    <tr>\n",
       "      <th>3</th>\n",
       "      <td>33</td>\n",
       "      <td>man</td>\n",
       "      <td>22.705</td>\n",
       "      <td>0</td>\n",
       "      <td>no</td>\n",
       "      <td>northwest</td>\n",
       "      <td>21984.47061</td>\n",
       "    </tr>\n",
       "    <tr>\n",
       "      <th>4</th>\n",
       "      <td>32</td>\n",
       "      <td>man</td>\n",
       "      <td>28.880</td>\n",
       "      <td>0</td>\n",
       "      <td>no</td>\n",
       "      <td>northwst</td>\n",
       "      <td>3866.85520</td>\n",
       "    </tr>\n",
       "  </tbody>\n",
       "</table>\n",
       "</div>"
      ],
      "text/plain": [
       "   age     sex     bmi  children smoker     region      charges\n",
       "0   19  female  27.900         0    yes  southwest  16884.92400\n",
       "1   18    male  33.770         1     no  southeast   1725.55230\n",
       "2   28     man  33.000         3     no  southeast   4449.46200\n",
       "3   33     man  22.705         0     no  northwest  21984.47061\n",
       "4   32     man  28.880         0     no   northwst   3866.85520"
      ]
     },
     "execution_count": 3,
     "metadata": {},
     "output_type": "execute_result"
    }
   ],
   "source": [
    "df_insurance.head()"
   ]
  },
  {
   "cell_type": "code",
   "execution_count": 4,
   "metadata": {},
   "outputs": [
    {
     "data": {
      "text/html": [
       "<div>\n",
       "<style scoped>\n",
       "    .dataframe tbody tr th:only-of-type {\n",
       "        vertical-align: middle;\n",
       "    }\n",
       "\n",
       "    .dataframe tbody tr th {\n",
       "        vertical-align: top;\n",
       "    }\n",
       "\n",
       "    .dataframe thead th {\n",
       "        text-align: right;\n",
       "    }\n",
       "</style>\n",
       "<table border=\"1\" class=\"dataframe\">\n",
       "  <thead>\n",
       "    <tr style=\"text-align: right;\">\n",
       "      <th></th>\n",
       "      <th>age</th>\n",
       "      <th>bmi</th>\n",
       "      <th>children</th>\n",
       "      <th>charges</th>\n",
       "    </tr>\n",
       "  </thead>\n",
       "  <tbody>\n",
       "    <tr>\n",
       "      <th>count</th>\n",
       "      <td>1344.000000</td>\n",
       "      <td>1344.000000</td>\n",
       "      <td>1344.000000</td>\n",
       "      <td>1344.000000</td>\n",
       "    </tr>\n",
       "    <tr>\n",
       "      <th>mean</th>\n",
       "      <td>38.972470</td>\n",
       "      <td>30.626417</td>\n",
       "      <td>1.090030</td>\n",
       "      <td>13211.179309</td>\n",
       "    </tr>\n",
       "    <tr>\n",
       "      <th>std</th>\n",
       "      <td>14.450676</td>\n",
       "      <td>6.131231</td>\n",
       "      <td>1.205011</td>\n",
       "      <td>12115.297713</td>\n",
       "    </tr>\n",
       "    <tr>\n",
       "      <th>min</th>\n",
       "      <td>-15.000000</td>\n",
       "      <td>15.070000</td>\n",
       "      <td>0.000000</td>\n",
       "      <td>0.000000</td>\n",
       "    </tr>\n",
       "    <tr>\n",
       "      <th>25%</th>\n",
       "      <td>26.000000</td>\n",
       "      <td>26.220000</td>\n",
       "      <td>0.000000</td>\n",
       "      <td>4687.444925</td>\n",
       "    </tr>\n",
       "    <tr>\n",
       "      <th>50%</th>\n",
       "      <td>39.000000</td>\n",
       "      <td>30.332500</td>\n",
       "      <td>1.000000</td>\n",
       "      <td>9303.297725</td>\n",
       "    </tr>\n",
       "    <tr>\n",
       "      <th>75%</th>\n",
       "      <td>51.000000</td>\n",
       "      <td>34.681250</td>\n",
       "      <td>2.000000</td>\n",
       "      <td>16579.959052</td>\n",
       "    </tr>\n",
       "    <tr>\n",
       "      <th>max</th>\n",
       "      <td>64.000000</td>\n",
       "      <td>53.130000</td>\n",
       "      <td>5.000000</td>\n",
       "      <td>63770.428010</td>\n",
       "    </tr>\n",
       "  </tbody>\n",
       "</table>\n",
       "</div>"
      ],
      "text/plain": [
       "               age          bmi     children       charges\n",
       "count  1344.000000  1344.000000  1344.000000   1344.000000\n",
       "mean     38.972470    30.626417     1.090030  13211.179309\n",
       "std      14.450676     6.131231     1.205011  12115.297713\n",
       "min     -15.000000    15.070000     0.000000      0.000000\n",
       "25%      26.000000    26.220000     0.000000   4687.444925\n",
       "50%      39.000000    30.332500     1.000000   9303.297725\n",
       "75%      51.000000    34.681250     2.000000  16579.959052\n",
       "max      64.000000    53.130000     5.000000  63770.428010"
      ]
     },
     "execution_count": 4,
     "metadata": {},
     "output_type": "execute_result"
    }
   ],
   "source": [
    "df_insurance.describe()"
   ]
  },
  {
   "cell_type": "code",
   "execution_count": 5,
   "metadata": {},
   "outputs": [
    {
     "data": {
      "text/plain": [
       "<matplotlib.axes._subplots.AxesSubplot at 0x7f45a1365520>"
      ]
     },
     "execution_count": 5,
     "metadata": {},
     "output_type": "execute_result"
    },
    {
     "data": {
      "image/png": "[encoded data removed]",
      "text/plain": [
       "<Figure size 432x288 with 1 Axes>"
      ]
     },
     "metadata": {
      "needs_background": "light"
     },
     "output_type": "display_data"
    }
   ],
   "source": [
    "df_insurance.age.plot.box()"
   ]
  },
  {
   "cell_type": "code",
   "execution_count": 6,
   "metadata": {},
   "outputs": [
    {
     "data": {
      "text/plain": [
       "<matplotlib.axes._subplots.AxesSubplot at 0x7f459ec45be0>"
      ]
     },
     "execution_count": 6,
     "metadata": {},
     "output_type": "execute_result"
    },
    {
     "data": {
      "image/png": "[encoded data removed]",
      "text/plain": [
       "<Figure size 432x288 with 1 Axes>"
      ]
     },
     "metadata": {
      "needs_background": "light"
     },
     "output_type": "display_data"
    }
   ],
   "source": [
    "df_insurance.age.plot.hist()"
   ]
  },
  {
   "cell_type": "code",
   "execution_count": 7,
   "metadata": {},
   "outputs": [],
   "source": [
    "df_insurance = df_insurance[df_insurance.age > 0]"
   ]
  },
  {
   "cell_type": "code",
   "execution_count": 8,
   "metadata": {},
   "outputs": [
    {
     "data": {
      "text/plain": [
       "<matplotlib.axes._subplots.AxesSubplot at 0x7f459ebd3fa0>"
      ]
     },
     "execution_count": 8,
     "metadata": {},
     "output_type": "execute_result"
    },
    {
     "data": {
      "image/png": "[encoded data removed]",
      "text/plain": [
       "<Figure size 432x288 with 1 Axes>"
      ]
     },
     "metadata": {
      "needs_background": "light"
     },
     "output_type": "display_data"
    }
   ],
   "source": [
    "df_insurance.age.plot.hist()"
   ]
  },
  {
   "cell_type": "code",
   "execution_count": 9,
   "metadata": {},
   "outputs": [
    {
     "data": {
      "text/html": [
       "<div>\n",
       "<style scoped>\n",
       "    .dataframe tbody tr th:only-of-type {\n",
       "        vertical-align: middle;\n",
       "    }\n",
       "\n",
       "    .dataframe tbody tr th {\n",
       "        vertical-align: top;\n",
       "    }\n",
       "\n",
       "    .dataframe thead th {\n",
       "        text-align: right;\n",
       "    }\n",
       "</style>\n",
       "<table border=\"1\" class=\"dataframe\">\n",
       "  <thead>\n",
       "    <tr style=\"text-align: right;\">\n",
       "      <th></th>\n",
       "      <th>age</th>\n",
       "      <th>sex</th>\n",
       "      <th>bmi</th>\n",
       "      <th>children</th>\n",
       "      <th>smoker</th>\n",
       "      <th>region</th>\n",
       "      <th>charges</th>\n",
       "      <th>age_discretized</th>\n",
       "    </tr>\n",
       "  </thead>\n",
       "  <tbody>\n",
       "    <tr>\n",
       "      <th>0</th>\n",
       "      <td>19</td>\n",
       "      <td>female</td>\n",
       "      <td>27.900</td>\n",
       "      <td>0</td>\n",
       "      <td>yes</td>\n",
       "      <td>southwest</td>\n",
       "      <td>16884.92400</td>\n",
       "      <td>0.0</td>\n",
       "    </tr>\n",
       "    <tr>\n",
       "      <th>1</th>\n",
       "      <td>18</td>\n",
       "      <td>male</td>\n",
       "      <td>33.770</td>\n",
       "      <td>1</td>\n",
       "      <td>no</td>\n",
       "      <td>southeast</td>\n",
       "      <td>1725.55230</td>\n",
       "      <td>0.0</td>\n",
       "    </tr>\n",
       "    <tr>\n",
       "      <th>2</th>\n",
       "      <td>28</td>\n",
       "      <td>man</td>\n",
       "      <td>33.000</td>\n",
       "      <td>3</td>\n",
       "      <td>no</td>\n",
       "      <td>southeast</td>\n",
       "      <td>4449.46200</td>\n",
       "      <td>2.0</td>\n",
       "    </tr>\n",
       "    <tr>\n",
       "      <th>3</th>\n",
       "      <td>33</td>\n",
       "      <td>man</td>\n",
       "      <td>22.705</td>\n",
       "      <td>0</td>\n",
       "      <td>no</td>\n",
       "      <td>northwest</td>\n",
       "      <td>21984.47061</td>\n",
       "      <td>2.0</td>\n",
       "    </tr>\n",
       "    <tr>\n",
       "      <th>4</th>\n",
       "      <td>32</td>\n",
       "      <td>man</td>\n",
       "      <td>28.880</td>\n",
       "      <td>0</td>\n",
       "      <td>no</td>\n",
       "      <td>northwst</td>\n",
       "      <td>3866.85520</td>\n",
       "      <td>2.0</td>\n",
       "    </tr>\n",
       "  </tbody>\n",
       "</table>\n",
       "</div>"
      ],
      "text/plain": [
       "   age     sex     bmi  children smoker     region      charges  \\\n",
       "0   19  female  27.900         0    yes  southwest  16884.92400   \n",
       "1   18    male  33.770         1     no  southeast   1725.55230   \n",
       "2   28     man  33.000         3     no  southeast   4449.46200   \n",
       "3   33     man  22.705         0     no  northwest  21984.47061   \n",
       "4   32     man  28.880         0     no   northwst   3866.85520   \n",
       "\n",
       "   age_discretized  \n",
       "0              0.0  \n",
       "1              0.0  \n",
       "2              2.0  \n",
       "3              2.0  \n",
       "4              2.0  "
      ]
     },
     "execution_count": 9,
     "metadata": {},
     "output_type": "execute_result"
    }
   ],
   "source": [
    "from sklearn.preprocessing import KBinsDiscretizer\n",
    "\n",
    "discretizer = KBinsDiscretizer(n_bins=7, encode='ordinal', strategy='quantile')\n",
    "df_insurance = df_insurance.assign(age_discretized = discretizer.fit_transform(df_insurance.age.values.reshape(-1, 1)))\n",
    "df_insurance.head()"
   ]
  },
  {
   "cell_type": "code",
   "execution_count": 10,
   "metadata": {},
   "outputs": [
    {
     "data": {
      "text/plain": [
       "[<matplotlib.axes._subplots.AxesSubplot at 0x7f45942bf910>,\n",
       " <matplotlib.axes._subplots.AxesSubplot at 0x7f45942bf910>,\n",
       " <matplotlib.axes._subplots.AxesSubplot at 0x7f45942bf910>,\n",
       " <matplotlib.axes._subplots.AxesSubplot at 0x7f45942bf910>,\n",
       " <matplotlib.axes._subplots.AxesSubplot at 0x7f45942bf910>,\n",
       " <matplotlib.axes._subplots.AxesSubplot at 0x7f45942bf910>,\n",
       " <matplotlib.axes._subplots.AxesSubplot at 0x7f45942bf910>]"
      ]
     },
     "execution_count": 10,
     "metadata": {},
     "output_type": "execute_result"
    }
   ],
   "source": [
    "[ df_insurance[df_insurance.age_discretized == i].age.plot.density() for i in range(7)]"
   ]
  },
  {
   "cell_type": "code",
   "execution_count": 11,
   "metadata": {},
   "outputs": [
    {
     "data": {
      "text/plain": [
       "<matplotlib.axes._subplots.AxesSubplot at 0x7f45942bf910>"
      ]
     },
     "execution_count": 11,
     "metadata": {},
     "output_type": "execute_result"
    },
    {
     "data": {
      "image/png": "[encoded data removed]",
      "text/plain": [
       "<Figure size 432x288 with 1 Axes>"
      ]
     },
     "metadata": {
      "needs_background": "light"
     },
     "output_type": "display_data"
    }
   ],
   "source": [
    "df_insurance.sex.value_counts().plot.bar()"
   ]
  },
  {
   "cell_type": "code",
   "execution_count": 12,
   "metadata": {},
   "outputs": [],
   "source": [
    "def clean_sex(x: str) -> str:\n",
    "    if x == 'man':\n",
    "        return 'male'\n",
    "    elif x == 'woman':\n",
    "        return 'female'\n",
    "    else:\n",
    "        return x"
   ]
  },
  {
   "cell_type": "code",
   "execution_count": 13,
   "metadata": {},
   "outputs": [],
   "source": [
    "df_insurance.sex = df_insurance.sex.apply(clean_sex)"
   ]
  },
  {
   "cell_type": "code",
   "execution_count": 14,
   "metadata": {},
   "outputs": [
    {
     "data": {
      "text/plain": [
       "<matplotlib.axes._subplots.AxesSubplot at 0x7f45942301f0>"
      ]
     },
     "execution_count": 14,
     "metadata": {},
     "output_type": "execute_result"
    },
    {
     "data": {
      "image/png": "[encoded data removed]",
      "text/plain": [
       "<Figure size 432x288 with 1 Axes>"
      ]
     },
     "metadata": {
      "needs_background": "light"
     },
     "output_type": "display_data"
    }
   ],
   "source": [
    "df_insurance.sex.value_counts().plot.bar()"
   ]
  },
  {
   "cell_type": "code",
   "execution_count": 15,
   "metadata": {},
   "outputs": [
    {
     "data": {
      "text/plain": [
       "<matplotlib.axes._subplots.AxesSubplot at 0x7f459420c310>"
      ]
     },
     "execution_count": 15,
     "metadata": {},
     "output_type": "execute_result"
    },
    {
     "data": {
      "image/png": "[encoded data removed]",
      "text/plain": [
       "<Figure size 432x288 with 1 Axes>"
      ]
     },
     "metadata": {
      "needs_background": "light"
     },
     "output_type": "display_data"
    }
   ],
   "source": [
    "df_insurance.bmi.plot.hist()"
   ]
  },
  {
   "cell_type": "code",
   "execution_count": 16,
   "metadata": {},
   "outputs": [
    {
     "data": {
      "text/plain": [
       "<matplotlib.axes._subplots.AxesSubplot at 0x7f45941728b0>"
      ]
     },
     "execution_count": 16,
     "metadata": {},
     "output_type": "execute_result"
    },
    {
     "data": {
      "image/png": "[encoded data removed]",
      "text/plain": [
       "<Figure size 432x288 with 1 Axes>"
      ]
     },
     "metadata": {
      "needs_background": "light"
     },
     "output_type": "display_data"
    }
   ],
   "source": [
    "df_insurance.bmi.plot.box()"
   ]
  },
  {
   "cell_type": "code",
   "execution_count": 17,
   "metadata": {},
   "outputs": [],
   "source": [
    "from matplotlib.cbook import boxplot_stats"
   ]
  },
  {
   "cell_type": "code",
   "execution_count": 18,
   "metadata": {},
   "outputs": [
    {
     "data": {
      "text/plain": [
       "{'mean': 30.66339686098655,\n",
       " 'iqr': 8.3975,\n",
       " 'cilo': 30.039569438669766,\n",
       " 'cihi': 30.76043056133023,\n",
       " 'whishi': 46.75,\n",
       " 'whislo': 15.96,\n",
       " 'fliers': array([49.06, 48.07, 47.52, 47.41, 50.38, 47.6 , 52.58, 47.74, 53.13]),\n",
       " 'q1': 26.29625,\n",
       " 'med': 30.4,\n",
       " 'q3': 34.69375}"
      ]
     },
     "execution_count": 18,
     "metadata": {},
     "output_type": "execute_result"
    }
   ],
   "source": [
    "stats = boxplot_stats(df_insurance.bmi)[0]\n",
    "stats"
   ]
  },
  {
   "cell_type": "code",
   "execution_count": 19,
   "metadata": {},
   "outputs": [
    {
     "data": {
      "text/plain": [
       "<matplotlib.axes._subplots.AxesSubplot at 0x7f4594159310>"
      ]
     },
     "execution_count": 19,
     "metadata": {},
     "output_type": "execute_result"
    },
    {
     "data": {
      "image/png": "[encoded data removed]",
      "text/plain": [
       "<Figure size 432x288 with 1 Axes>"
      ]
     },
     "metadata": {
      "needs_background": "light"
     },
     "output_type": "display_data"
    }
   ],
   "source": [
    "df_insurance = df_insurance[df_insurance.bmi <= stats['whishi']]\n",
    "df_insurance.bmi.plot.box()"
   ]
  },
  {
   "cell_type": "code",
   "execution_count": 20,
   "metadata": {},
   "outputs": [
    {
     "data": {
      "text/plain": [
       "<matplotlib.axes._subplots.AxesSubplot at 0x7f45940c2580>"
      ]
     },
     "execution_count": 20,
     "metadata": {},
     "output_type": "execute_result"
    },
    {
     "data": {
      "image/png": "[encoded data removed]",
      "text/plain": [
       "<Figure size 432x288 with 1 Axes>"
      ]
     },
     "metadata": {
      "needs_background": "light"
     },
     "output_type": "display_data"
    }
   ],
   "source": [
    "df_insurance.bmi.plot.hist()"
   ]
  },
  {
   "cell_type": "code",
   "execution_count": 21,
   "metadata": {},
   "outputs": [],
   "source": [
    "def bmi_description(bmi: float) -> str:\n",
    "    if bmi < 18.5:\n",
    "        return 'underweight'\n",
    "    elif bmi < 25:\n",
    "        return 'normal'\n",
    "    elif bmi < 30:\n",
    "        return 'overweight'\n",
    "    else:\n",
    "        return 'obese'"
   ]
  },
  {
   "cell_type": "code",
   "execution_count": 22,
   "metadata": {},
   "outputs": [
    {
     "data": {
      "text/html": [
       "<div>\n",
       "<style scoped>\n",
       "    .dataframe tbody tr th:only-of-type {\n",
       "        vertical-align: middle;\n",
       "    }\n",
       "\n",
       "    .dataframe tbody tr th {\n",
       "        vertical-align: top;\n",
       "    }\n",
       "\n",
       "    .dataframe thead th {\n",
       "        text-align: right;\n",
       "    }\n",
       "</style>\n",
       "<table border=\"1\" class=\"dataframe\">\n",
       "  <thead>\n",
       "    <tr style=\"text-align: right;\">\n",
       "      <th></th>\n",
       "      <th>age</th>\n",
       "      <th>sex</th>\n",
       "      <th>bmi</th>\n",
       "      <th>children</th>\n",
       "      <th>smoker</th>\n",
       "      <th>region</th>\n",
       "      <th>charges</th>\n",
       "      <th>age_discretized</th>\n",
       "      <th>bmi_description</th>\n",
       "    </tr>\n",
       "  </thead>\n",
       "  <tbody>\n",
       "    <tr>\n",
       "      <th>0</th>\n",
       "      <td>19</td>\n",
       "      <td>female</td>\n",
       "      <td>27.900</td>\n",
       "      <td>0</td>\n",
       "      <td>yes</td>\n",
       "      <td>southwest</td>\n",
       "      <td>16884.92400</td>\n",
       "      <td>0.0</td>\n",
       "      <td>overweight</td>\n",
       "    </tr>\n",
       "    <tr>\n",
       "      <th>1</th>\n",
       "      <td>18</td>\n",
       "      <td>male</td>\n",
       "      <td>33.770</td>\n",
       "      <td>1</td>\n",
       "      <td>no</td>\n",
       "      <td>southeast</td>\n",
       "      <td>1725.55230</td>\n",
       "      <td>0.0</td>\n",
       "      <td>obese</td>\n",
       "    </tr>\n",
       "    <tr>\n",
       "      <th>2</th>\n",
       "      <td>28</td>\n",
       "      <td>male</td>\n",
       "      <td>33.000</td>\n",
       "      <td>3</td>\n",
       "      <td>no</td>\n",
       "      <td>southeast</td>\n",
       "      <td>4449.46200</td>\n",
       "      <td>2.0</td>\n",
       "      <td>obese</td>\n",
       "    </tr>\n",
       "    <tr>\n",
       "      <th>3</th>\n",
       "      <td>33</td>\n",
       "      <td>male</td>\n",
       "      <td>22.705</td>\n",
       "      <td>0</td>\n",
       "      <td>no</td>\n",
       "      <td>northwest</td>\n",
       "      <td>21984.47061</td>\n",
       "      <td>2.0</td>\n",
       "      <td>normal</td>\n",
       "    </tr>\n",
       "    <tr>\n",
       "      <th>4</th>\n",
       "      <td>32</td>\n",
       "      <td>male</td>\n",
       "      <td>28.880</td>\n",
       "      <td>0</td>\n",
       "      <td>no</td>\n",
       "      <td>northwst</td>\n",
       "      <td>3866.85520</td>\n",
       "      <td>2.0</td>\n",
       "      <td>overweight</td>\n",
       "    </tr>\n",
       "  </tbody>\n",
       "</table>\n",
       "</div>"
      ],
      "text/plain": [
       "   age     sex     bmi  children smoker     region      charges  \\\n",
       "0   19  female  27.900         0    yes  southwest  16884.92400   \n",
       "1   18    male  33.770         1     no  southeast   1725.55230   \n",
       "2   28    male  33.000         3     no  southeast   4449.46200   \n",
       "3   33    male  22.705         0     no  northwest  21984.47061   \n",
       "4   32    male  28.880         0     no   northwst   3866.85520   \n",
       "\n",
       "   age_discretized bmi_description  \n",
       "0              0.0      overweight  \n",
       "1              0.0           obese  \n",
       "2              2.0           obese  \n",
       "3              2.0          normal  \n",
       "4              2.0      overweight  "
      ]
     },
     "execution_count": 22,
     "metadata": {},
     "output_type": "execute_result"
    }
   ],
   "source": [
    "df_insurance = df_insurance.assign(bmi_description = df_insurance.bmi.apply(bmi_description))\n",
    "df_insurance.head()"
   ]
  },
  {
   "cell_type": "code",
   "execution_count": 23,
   "metadata": {},
   "outputs": [
    {
     "data": {
      "text/plain": [
       "<matplotlib.axes._subplots.AxesSubplot at 0x7f459402feb0>"
      ]
     },
     "execution_count": 23,
     "metadata": {},
     "output_type": "execute_result"
    },
    {
     "data": {
      "image/png": "[encoded data removed]",
      "text/plain": [
       "<Figure size 432x288 with 1 Axes>"
      ]
     },
     "metadata": {
      "needs_background": "light"
     },
     "output_type": "display_data"
    }
   ],
   "source": [
    "df_insurance.bmi_description.value_counts().plot.bar()"
   ]
  },
  {
   "cell_type": "code",
   "execution_count": 24,
   "metadata": {},
   "outputs": [
    {
     "data": {
      "text/plain": [
       "<matplotlib.axes._subplots.AxesSubplot at 0x7f459400b9a0>"
      ]
     },
     "execution_count": 24,
     "metadata": {},
     "output_type": "execute_result"
    },
    {
     "data": {
      "image/png": "[encoded data removed]",
      "text/plain": [
       "<Figure size 432x288 with 1 Axes>"
      ]
     },
     "metadata": {
      "needs_background": "light"
     },
     "output_type": "display_data"
    }
   ],
   "source": [
    "df_insurance.children.value_counts().plot.bar()"
   ]
  },
  {
   "cell_type": "code",
   "execution_count": 25,
   "metadata": {},
   "outputs": [],
   "source": [
    "def children_description(x: int) -> str:\n",
    "    if x == 0:\n",
    "        return 'no children'\n",
    "    elif x < 4:\n",
    "        return 'up to 3 children'\n",
    "    else:\n",
    "        return 'more than 3 children'"
   ]
  },
  {
   "cell_type": "code",
   "execution_count": 26,
   "metadata": {},
   "outputs": [
    {
     "data": {
      "text/html": [
       "<div>\n",
       "<style scoped>\n",
       "    .dataframe tbody tr th:only-of-type {\n",
       "        vertical-align: middle;\n",
       "    }\n",
       "\n",
       "    .dataframe tbody tr th {\n",
       "        vertical-align: top;\n",
       "    }\n",
       "\n",
       "    .dataframe thead th {\n",
       "        text-align: right;\n",
       "    }\n",
       "</style>\n",
       "<table border=\"1\" class=\"dataframe\">\n",
       "  <thead>\n",
       "    <tr style=\"text-align: right;\">\n",
       "      <th></th>\n",
       "      <th>age</th>\n",
       "      <th>sex</th>\n",
       "      <th>bmi</th>\n",
       "      <th>children</th>\n",
       "      <th>smoker</th>\n",
       "      <th>region</th>\n",
       "      <th>charges</th>\n",
       "      <th>age_discretized</th>\n",
       "      <th>bmi_description</th>\n",
       "      <th>children_description</th>\n",
       "    </tr>\n",
       "  </thead>\n",
       "  <tbody>\n",
       "    <tr>\n",
       "      <th>0</th>\n",
       "      <td>19</td>\n",
       "      <td>female</td>\n",
       "      <td>27.900</td>\n",
       "      <td>0</td>\n",
       "      <td>yes</td>\n",
       "      <td>southwest</td>\n",
       "      <td>16884.92400</td>\n",
       "      <td>0.0</td>\n",
       "      <td>overweight</td>\n",
       "      <td>no children</td>\n",
       "    </tr>\n",
       "    <tr>\n",
       "      <th>1</th>\n",
       "      <td>18</td>\n",
       "      <td>male</td>\n",
       "      <td>33.770</td>\n",
       "      <td>1</td>\n",
       "      <td>no</td>\n",
       "      <td>southeast</td>\n",
       "      <td>1725.55230</td>\n",
       "      <td>0.0</td>\n",
       "      <td>obese</td>\n",
       "      <td>up to 3 children</td>\n",
       "    </tr>\n",
       "    <tr>\n",
       "      <th>2</th>\n",
       "      <td>28</td>\n",
       "      <td>male</td>\n",
       "      <td>33.000</td>\n",
       "      <td>3</td>\n",
       "      <td>no</td>\n",
       "      <td>southeast</td>\n",
       "      <td>4449.46200</td>\n",
       "      <td>2.0</td>\n",
       "      <td>obese</td>\n",
       "      <td>up to 3 children</td>\n",
       "    </tr>\n",
       "    <tr>\n",
       "      <th>3</th>\n",
       "      <td>33</td>\n",
       "      <td>male</td>\n",
       "      <td>22.705</td>\n",
       "      <td>0</td>\n",
       "      <td>no</td>\n",
       "      <td>northwest</td>\n",
       "      <td>21984.47061</td>\n",
       "      <td>2.0</td>\n",
       "      <td>normal</td>\n",
       "      <td>no children</td>\n",
       "    </tr>\n",
       "    <tr>\n",
       "      <th>4</th>\n",
       "      <td>32</td>\n",
       "      <td>male</td>\n",
       "      <td>28.880</td>\n",
       "      <td>0</td>\n",
       "      <td>no</td>\n",
       "      <td>northwst</td>\n",
       "      <td>3866.85520</td>\n",
       "      <td>2.0</td>\n",
       "      <td>overweight</td>\n",
       "      <td>no children</td>\n",
       "    </tr>\n",
       "  </tbody>\n",
       "</table>\n",
       "</div>"
      ],
      "text/plain": [
       "   age     sex     bmi  children smoker     region      charges  \\\n",
       "0   19  female  27.900         0    yes  southwest  16884.92400   \n",
       "1   18    male  33.770         1     no  southeast   1725.55230   \n",
       "2   28    male  33.000         3     no  southeast   4449.46200   \n",
       "3   33    male  22.705         0     no  northwest  21984.47061   \n",
       "4   32    male  28.880         0     no   northwst   3866.85520   \n",
       "\n",
       "   age_discretized bmi_description children_description  \n",
       "0              0.0      overweight          no children  \n",
       "1              0.0           obese     up to 3 children  \n",
       "2              2.0           obese     up to 3 children  \n",
       "3              2.0          normal          no children  \n",
       "4              2.0      overweight          no children  "
      ]
     },
     "execution_count": 26,
     "metadata": {},
     "output_type": "execute_result"
    }
   ],
   "source": [
    "df_insurance = df_insurance.assign(children_description = df_insurance.children.apply(children_description))\n",
    "df_insurance.head()"
   ]
  },
  {
   "cell_type": "code",
   "execution_count": 27,
   "metadata": {},
   "outputs": [
    {
     "data": {
      "text/plain": [
       "<matplotlib.axes._subplots.AxesSubplot at 0x7f4593f72400>"
      ]
     },
     "execution_count": 27,
     "metadata": {},
     "output_type": "execute_result"
    },
    {
     "data": {
      "image/png": "[encoded data removed]",
      "text/plain": [
       "<Figure size 432x288 with 1 Axes>"
      ]
     },
     "metadata": {
      "needs_background": "light"
     },
     "output_type": "display_data"
    }
   ],
   "source": [
    "df_insurance.smoker.value_counts().plot.bar()"
   ]
  },
  {
   "cell_type": "code",
   "execution_count": 28,
   "metadata": {},
   "outputs": [
    {
     "data": {
      "text/plain": [
       "southeast     357\n",
       "southwest     315\n",
       "northeast     310\n",
       "northwest     309\n",
       "northeastt     10\n",
       "southwes        9\n",
       "northwst        9\n",
       "northwes        5\n",
       "northeas        3\n",
       "nortwest        2\n",
       "Name: region, dtype: int64"
      ]
     },
     "execution_count": 28,
     "metadata": {},
     "output_type": "execute_result"
    }
   ],
   "source": [
    "df_insurance.region.value_counts()"
   ]
  },
  {
   "cell_type": "code",
   "execution_count": 29,
   "metadata": {},
   "outputs": [],
   "source": [
    "def clean_region(x: str) -> str:\n",
    "    if x in ['northeastt', 'northeas']:\n",
    "        return 'northeast'\n",
    "    elif x == 'southwes':\n",
    "        return 'southwest'\n",
    "    elif x in ['northwst', 'northwes', 'nortwest']:\n",
    "        return 'northwest'\n",
    "    else:\n",
    "        return x"
   ]
  },
  {
   "cell_type": "code",
   "execution_count": 30,
   "metadata": {},
   "outputs": [
    {
     "data": {
      "text/plain": [
       "<matplotlib.axes._subplots.AxesSubplot at 0x7f4593f40be0>"
      ]
     },
     "execution_count": 30,
     "metadata": {},
     "output_type": "execute_result"
    },
    {
     "data": {
      "image/png": "[encoded data removed]",
      "text/plain": [
       "<Figure size 432x288 with 1 Axes>"
      ]
     },
     "metadata": {
      "needs_background": "light"
     },
     "output_type": "display_data"
    }
   ],
   "source": [
    "df_insurance.region = df_insurance.region.apply(clean_region)\n",
    "df_insurance.region.value_counts().plot.bar()"
   ]
  },
  {
   "cell_type": "code",
   "execution_count": 31,
   "metadata": {},
   "outputs": [
    {
     "data": {
      "text/plain": [
       "<matplotlib.axes._subplots.AxesSubplot at 0x7f4594099100>"
      ]
     },
     "execution_count": 31,
     "metadata": {},
     "output_type": "execute_result"
    },
    {
     "data": {
      "image/png": "[encoded data removed]",
      "text/plain": [
       "<Figure size 432x288 with 1 Axes>"
      ]
     },
     "metadata": {
      "needs_background": "light"
     },
     "output_type": "display_data"
    }
   ],
   "source": [
    "df_insurance.charges.plot.hist()"
   ]
  },
  {
   "cell_type": "code",
   "execution_count": 32,
   "metadata": {},
   "outputs": [
    {
     "data": {
      "text/html": [
       "<div>\n",
       "<style scoped>\n",
       "    .dataframe tbody tr th:only-of-type {\n",
       "        vertical-align: middle;\n",
       "    }\n",
       "\n",
       "    .dataframe tbody tr th {\n",
       "        vertical-align: top;\n",
       "    }\n",
       "\n",
       "    .dataframe thead th {\n",
       "        text-align: right;\n",
       "    }\n",
       "</style>\n",
       "<table border=\"1\" class=\"dataframe\">\n",
       "  <thead>\n",
       "    <tr style=\"text-align: right;\">\n",
       "      <th></th>\n",
       "      <th>age</th>\n",
       "      <th>sex</th>\n",
       "      <th>bmi</th>\n",
       "      <th>children</th>\n",
       "      <th>smoker</th>\n",
       "      <th>region</th>\n",
       "      <th>charges</th>\n",
       "      <th>age_discretized</th>\n",
       "      <th>bmi_description</th>\n",
       "      <th>children_description</th>\n",
       "      <th>charges_log</th>\n",
       "    </tr>\n",
       "  </thead>\n",
       "  <tbody>\n",
       "    <tr>\n",
       "      <th>0</th>\n",
       "      <td>19</td>\n",
       "      <td>female</td>\n",
       "      <td>27.900</td>\n",
       "      <td>0</td>\n",
       "      <td>yes</td>\n",
       "      <td>southwest</td>\n",
       "      <td>16884.92400</td>\n",
       "      <td>0.0</td>\n",
       "      <td>overweight</td>\n",
       "      <td>no children</td>\n",
       "      <td>9.734176</td>\n",
       "    </tr>\n",
       "    <tr>\n",
       "      <th>1</th>\n",
       "      <td>18</td>\n",
       "      <td>male</td>\n",
       "      <td>33.770</td>\n",
       "      <td>1</td>\n",
       "      <td>no</td>\n",
       "      <td>southeast</td>\n",
       "      <td>1725.55230</td>\n",
       "      <td>0.0</td>\n",
       "      <td>obese</td>\n",
       "      <td>up to 3 children</td>\n",
       "      <td>7.453302</td>\n",
       "    </tr>\n",
       "    <tr>\n",
       "      <th>2</th>\n",
       "      <td>28</td>\n",
       "      <td>male</td>\n",
       "      <td>33.000</td>\n",
       "      <td>3</td>\n",
       "      <td>no</td>\n",
       "      <td>southeast</td>\n",
       "      <td>4449.46200</td>\n",
       "      <td>2.0</td>\n",
       "      <td>obese</td>\n",
       "      <td>up to 3 children</td>\n",
       "      <td>8.400538</td>\n",
       "    </tr>\n",
       "    <tr>\n",
       "      <th>3</th>\n",
       "      <td>33</td>\n",
       "      <td>male</td>\n",
       "      <td>22.705</td>\n",
       "      <td>0</td>\n",
       "      <td>no</td>\n",
       "      <td>northwest</td>\n",
       "      <td>21984.47061</td>\n",
       "      <td>2.0</td>\n",
       "      <td>normal</td>\n",
       "      <td>no children</td>\n",
       "      <td>9.998092</td>\n",
       "    </tr>\n",
       "    <tr>\n",
       "      <th>4</th>\n",
       "      <td>32</td>\n",
       "      <td>male</td>\n",
       "      <td>28.880</td>\n",
       "      <td>0</td>\n",
       "      <td>no</td>\n",
       "      <td>northwest</td>\n",
       "      <td>3866.85520</td>\n",
       "      <td>2.0</td>\n",
       "      <td>overweight</td>\n",
       "      <td>no children</td>\n",
       "      <td>8.260197</td>\n",
       "    </tr>\n",
       "  </tbody>\n",
       "</table>\n",
       "</div>"
      ],
      "text/plain": [
       "   age     sex     bmi  children smoker     region      charges  \\\n",
       "0   19  female  27.900         0    yes  southwest  16884.92400   \n",
       "1   18    male  33.770         1     no  southeast   1725.55230   \n",
       "2   28    male  33.000         3     no  southeast   4449.46200   \n",
       "3   33    male  22.705         0     no  northwest  21984.47061   \n",
       "4   32    male  28.880         0     no  northwest   3866.85520   \n",
       "\n",
       "   age_discretized bmi_description children_description  charges_log  \n",
       "0              0.0      overweight          no children     9.734176  \n",
       "1              0.0           obese     up to 3 children     7.453302  \n",
       "2              2.0           obese     up to 3 children     8.400538  \n",
       "3              2.0          normal          no children     9.998092  \n",
       "4              2.0      overweight          no children     8.260197  "
      ]
     },
     "execution_count": 32,
     "metadata": {},
     "output_type": "execute_result"
    }
   ],
   "source": [
    "df_insurance = df_insurance.assign(charges_log = df_insurance.charges.apply(lambda x: np.log(x)))\n",
    "df_insurance.head()"
   ]
  },
  {
   "cell_type": "code",
   "execution_count": 33,
   "metadata": {},
   "outputs": [
    {
     "data": {
      "text/plain": [
       "<matplotlib.axes._subplots.AxesSubplot at 0x7f4593e6b0d0>"
      ]
     },
     "execution_count": 33,
     "metadata": {},
     "output_type": "execute_result"
    },
    {
     "data": {
      "image/png": "[encoded data removed]",
      "text/plain": [
       "<Figure size 432x288 with 1 Axes>"
      ]
     },
     "metadata": {
      "needs_background": "light"
     },
     "output_type": "display_data"
    }
   ],
   "source": [
    "df_insurance.charges_log.plot.hist()"
   ]
  },
  {
   "cell_type": "code",
   "execution_count": 34,
   "metadata": {},
   "outputs": [
    {
     "data": {
      "text/html": [
       "<div>\n",
       "<style scoped>\n",
       "    .dataframe tbody tr th:only-of-type {\n",
       "        vertical-align: middle;\n",
       "    }\n",
       "\n",
       "    .dataframe tbody tr th {\n",
       "        vertical-align: top;\n",
       "    }\n",
       "\n",
       "    .dataframe thead th {\n",
       "        text-align: right;\n",
       "    }\n",
       "</style>\n",
       "<table border=\"1\" class=\"dataframe\">\n",
       "  <thead>\n",
       "    <tr style=\"text-align: right;\">\n",
       "      <th></th>\n",
       "      <th>age</th>\n",
       "      <th>bmi</th>\n",
       "      <th>children</th>\n",
       "      <th>charges</th>\n",
       "      <th>age_discretized</th>\n",
       "      <th>charges_log</th>\n",
       "    </tr>\n",
       "  </thead>\n",
       "  <tbody>\n",
       "    <tr>\n",
       "      <th>age</th>\n",
       "      <td>1.000000</td>\n",
       "      <td>0.114686</td>\n",
       "      <td>0.043041</td>\n",
       "      <td>0.302022</td>\n",
       "      <td>0.988823</td>\n",
       "      <td>0.529323</td>\n",
       "    </tr>\n",
       "    <tr>\n",
       "      <th>bmi</th>\n",
       "      <td>0.114686</td>\n",
       "      <td>1.000000</td>\n",
       "      <td>0.017355</td>\n",
       "      <td>0.193196</td>\n",
       "      <td>0.110423</td>\n",
       "      <td>0.133912</td>\n",
       "    </tr>\n",
       "    <tr>\n",
       "      <th>children</th>\n",
       "      <td>0.043041</td>\n",
       "      <td>0.017355</td>\n",
       "      <td>1.000000</td>\n",
       "      <td>0.069739</td>\n",
       "      <td>0.049242</td>\n",
       "      <td>0.161744</td>\n",
       "    </tr>\n",
       "    <tr>\n",
       "      <th>charges</th>\n",
       "      <td>0.302022</td>\n",
       "      <td>0.193196</td>\n",
       "      <td>0.069739</td>\n",
       "      <td>1.000000</td>\n",
       "      <td>0.296797</td>\n",
       "      <td>0.893941</td>\n",
       "    </tr>\n",
       "    <tr>\n",
       "      <th>age_discretized</th>\n",
       "      <td>0.988823</td>\n",
       "      <td>0.110423</td>\n",
       "      <td>0.049242</td>\n",
       "      <td>0.296797</td>\n",
       "      <td>1.000000</td>\n",
       "      <td>0.523658</td>\n",
       "    </tr>\n",
       "    <tr>\n",
       "      <th>charges_log</th>\n",
       "      <td>0.529323</td>\n",
       "      <td>0.133912</td>\n",
       "      <td>0.161744</td>\n",
       "      <td>0.893941</td>\n",
       "      <td>0.523658</td>\n",
       "      <td>1.000000</td>\n",
       "    </tr>\n",
       "  </tbody>\n",
       "</table>\n",
       "</div>"
      ],
      "text/plain": [
       "                      age       bmi  children   charges  age_discretized  \\\n",
       "age              1.000000  0.114686  0.043041  0.302022         0.988823   \n",
       "bmi              0.114686  1.000000  0.017355  0.193196         0.110423   \n",
       "children         0.043041  0.017355  1.000000  0.069739         0.049242   \n",
       "charges          0.302022  0.193196  0.069739  1.000000         0.296797   \n",
       "age_discretized  0.988823  0.110423  0.049242  0.296797         1.000000   \n",
       "charges_log      0.529323  0.133912  0.161744  0.893941         0.523658   \n",
       "\n",
       "                 charges_log  \n",
       "age                 0.529323  \n",
       "bmi                 0.133912  \n",
       "children            0.161744  \n",
       "charges             0.893941  \n",
       "age_discretized     0.523658  \n",
       "charges_log         1.000000  "
      ]
     },
     "execution_count": 34,
     "metadata": {},
     "output_type": "execute_result"
    }
   ],
   "source": [
    "df_insurance.corr()"
   ]
  },
  {
   "cell_type": "code",
   "execution_count": 35,
   "metadata": {},
   "outputs": [],
   "source": [
    "from sklearn.preprocessing import MinMaxScaler"
   ]
  },
  {
   "cell_type": "code",
   "execution_count": 36,
   "metadata": {},
   "outputs": [
    {
     "data": {
      "text/html": [
       "<div>\n",
       "<style scoped>\n",
       "    .dataframe tbody tr th:only-of-type {\n",
       "        vertical-align: middle;\n",
       "    }\n",
       "\n",
       "    .dataframe tbody tr th {\n",
       "        vertical-align: top;\n",
       "    }\n",
       "\n",
       "    .dataframe thead th {\n",
       "        text-align: right;\n",
       "    }\n",
       "</style>\n",
       "<table border=\"1\" class=\"dataframe\">\n",
       "  <thead>\n",
       "    <tr style=\"text-align: right;\">\n",
       "      <th></th>\n",
       "      <th>age</th>\n",
       "      <th>sex</th>\n",
       "      <th>bmi</th>\n",
       "      <th>children</th>\n",
       "      <th>smoker</th>\n",
       "      <th>region</th>\n",
       "      <th>charges</th>\n",
       "      <th>age_discretized</th>\n",
       "      <th>bmi_description</th>\n",
       "      <th>children_description</th>\n",
       "      <th>charges_log</th>\n",
       "      <th>charges_minmax</th>\n",
       "    </tr>\n",
       "  </thead>\n",
       "  <tbody>\n",
       "    <tr>\n",
       "      <th>0</th>\n",
       "      <td>19</td>\n",
       "      <td>female</td>\n",
       "      <td>27.900</td>\n",
       "      <td>0</td>\n",
       "      <td>yes</td>\n",
       "      <td>southwest</td>\n",
       "      <td>16884.92400</td>\n",
       "      <td>0.0</td>\n",
       "      <td>overweight</td>\n",
       "      <td>no children</td>\n",
       "      <td>9.734176</td>\n",
       "      <td>0.256431</td>\n",
       "    </tr>\n",
       "    <tr>\n",
       "      <th>1</th>\n",
       "      <td>18</td>\n",
       "      <td>male</td>\n",
       "      <td>33.770</td>\n",
       "      <td>1</td>\n",
       "      <td>no</td>\n",
       "      <td>southeast</td>\n",
       "      <td>1725.55230</td>\n",
       "      <td>0.0</td>\n",
       "      <td>obese</td>\n",
       "      <td>up to 3 children</td>\n",
       "      <td>7.453302</td>\n",
       "      <td>0.009821</td>\n",
       "    </tr>\n",
       "    <tr>\n",
       "      <th>2</th>\n",
       "      <td>28</td>\n",
       "      <td>male</td>\n",
       "      <td>33.000</td>\n",
       "      <td>3</td>\n",
       "      <td>no</td>\n",
       "      <td>southeast</td>\n",
       "      <td>4449.46200</td>\n",
       "      <td>2.0</td>\n",
       "      <td>obese</td>\n",
       "      <td>up to 3 children</td>\n",
       "      <td>8.400538</td>\n",
       "      <td>0.054133</td>\n",
       "    </tr>\n",
       "    <tr>\n",
       "      <th>3</th>\n",
       "      <td>33</td>\n",
       "      <td>male</td>\n",
       "      <td>22.705</td>\n",
       "      <td>0</td>\n",
       "      <td>no</td>\n",
       "      <td>northwest</td>\n",
       "      <td>21984.47061</td>\n",
       "      <td>2.0</td>\n",
       "      <td>normal</td>\n",
       "      <td>no children</td>\n",
       "      <td>9.998092</td>\n",
       "      <td>0.339389</td>\n",
       "    </tr>\n",
       "    <tr>\n",
       "      <th>4</th>\n",
       "      <td>32</td>\n",
       "      <td>male</td>\n",
       "      <td>28.880</td>\n",
       "      <td>0</td>\n",
       "      <td>no</td>\n",
       "      <td>northwest</td>\n",
       "      <td>3866.85520</td>\n",
       "      <td>2.0</td>\n",
       "      <td>overweight</td>\n",
       "      <td>no children</td>\n",
       "      <td>8.260197</td>\n",
       "      <td>0.044655</td>\n",
       "    </tr>\n",
       "  </tbody>\n",
       "</table>\n",
       "</div>"
      ],
      "text/plain": [
       "   age     sex     bmi  children smoker     region      charges  \\\n",
       "0   19  female  27.900         0    yes  southwest  16884.92400   \n",
       "1   18    male  33.770         1     no  southeast   1725.55230   \n",
       "2   28    male  33.000         3     no  southeast   4449.46200   \n",
       "3   33    male  22.705         0     no  northwest  21984.47061   \n",
       "4   32    male  28.880         0     no  northwest   3866.85520   \n",
       "\n",
       "   age_discretized bmi_description children_description  charges_log  \\\n",
       "0              0.0      overweight          no children     9.734176   \n",
       "1              0.0           obese     up to 3 children     7.453302   \n",
       "2              2.0           obese     up to 3 children     8.400538   \n",
       "3              2.0          normal          no children     9.998092   \n",
       "4              2.0      overweight          no children     8.260197   \n",
       "\n",
       "   charges_minmax  \n",
       "0        0.256431  \n",
       "1        0.009821  \n",
       "2        0.054133  \n",
       "3        0.339389  \n",
       "4        0.044655  "
      ]
     },
     "execution_count": 36,
     "metadata": {},
     "output_type": "execute_result"
    }
   ],
   "source": [
    "mms = MinMaxScaler()\n",
    "df_insurance = df_insurance.assign(charges_minmax = mms.fit_transform(df_insurance.charges.values.reshape(-1,1)))\n",
    "df_insurance.head()"
   ]
  },
  {
   "cell_type": "code",
   "execution_count": 37,
   "metadata": {},
   "outputs": [
    {
     "data": {
      "text/plain": [
       "<matplotlib.axes._subplots.AxesSubplot at 0x7f4593df1730>"
      ]
     },
     "execution_count": 37,
     "metadata": {},
     "output_type": "execute_result"
    },
    {
     "data": {
      "image/png": "[encoded data removed]",
      "text/plain": [
       "<Figure size 432x288 with 1 Axes>"
      ]
     },
     "metadata": {
      "needs_background": "light"
     },
     "output_type": "display_data"
    }
   ],
   "source": [
    "df_insurance[df_insurance.smoker == 'yes'].charges.plot.density()\n",
    "df_insurance[df_insurance.smoker == 'no'].charges.plot.density()"
   ]
  },
  {
   "cell_type": "code",
   "execution_count": 38,
   "metadata": {},
   "outputs": [
    {
     "data": {
      "text/plain": [
       "<matplotlib.axes._subplots.AxesSubplot at 0x7f4593dbed90>"
      ]
     },
     "execution_count": 38,
     "metadata": {},
     "output_type": "execute_result"
    },
    {
     "data": {
      "image/png": "[encoded data removed]",
      "text/plain": [
       "<Figure size 432x288 with 1 Axes>"
      ]
     },
     "metadata": {
      "needs_background": "light"
     },
     "output_type": "display_data"
    }
   ],
   "source": [
    "df_insurance[df_insurance.sex == 'male'].charges.plot.density()\n",
    "df_insurance[df_insurance.sex == 'female'].charges.plot.density()"
   ]
  },
  {
   "cell_type": "code",
   "execution_count": 39,
   "metadata": {},
   "outputs": [
    {
     "data": {
      "text/plain": [
       "<matplotlib.axes._subplots.AxesSubplot at 0x7f4593d25610>"
      ]
     },
     "execution_count": 39,
     "metadata": {},
     "output_type": "execute_result"
    },
    {
     "data": {
      "image/png": "[encoded data removed]",
      "text/plain": [
       "<Figure size 432x288 with 1 Axes>"
      ]
     },
     "metadata": {
      "needs_background": "light"
     },
     "output_type": "display_data"
    }
   ],
   "source": [
    "df_insurance[df_insurance.region == 'northeast'].charges.plot.density()\n",
    "df_insurance[df_insurance.region == 'northwest'].charges.plot.density()\n",
    "df_insurance[df_insurance.region == 'southwest'].charges.plot.density()\n",
    "df_insurance[df_insurance.region == 'southeast'].charges.plot.density()"
   ]
  },
  {
   "cell_type": "code",
   "execution_count": 40,
   "metadata": {},
   "outputs": [
    {
     "data": {
      "text/plain": [
       "<matplotlib.axes._subplots.AxesSubplot at 0x7f4593cfe2e0>"
      ]
     },
     "execution_count": 40,
     "metadata": {},
     "output_type": "execute_result"
    },
    {
     "data": {
      "image/png": "[encoded data removed]",
      "text/plain": [
       "<Figure size 432x288 with 1 Axes>"
      ]
     },
     "metadata": {
      "needs_background": "light"
     },
     "output_type": "display_data"
    }
   ],
   "source": [
    "df_insurance[df_insurance.age_discretized == 0].charges.plot.density()\n",
    "df_insurance[df_insurance.age_discretized != 0].charges.plot.density()"
   ]
  },
  {
   "cell_type": "code",
   "execution_count": 41,
   "metadata": {},
   "outputs": [
    {
     "data": {
      "text/plain": [
       "<matplotlib.axes._subplots.AxesSubplot at 0x7f4593c64df0>"
      ]
     },
     "execution_count": 41,
     "metadata": {},
     "output_type": "execute_result"
    },
    {
     "data": {
      "image/png": "[encoded data removed]",
      "text/plain": [
       "<Figure size 432x288 with 1 Axes>"
      ]
     },
     "metadata": {
      "needs_background": "light"
     },
     "output_type": "display_data"
    }
   ],
   "source": [
    "df_insurance[df_insurance.bmi_description == 'overweight'].charges.plot.density()\n",
    "df_insurance[df_insurance.bmi_description == 'obese'].charges.plot.density()\n",
    "df_insurance[df_insurance.bmi_description == 'normal'].charges.plot.density()\n",
    "df_insurance[df_insurance.bmi_description == 'underweight'].charges.plot.density()"
   ]
  },
  {
   "cell_type": "code",
   "execution_count": 42,
   "metadata": {},
   "outputs": [
    {
     "data": {
      "text/plain": [
       "<matplotlib.axes._subplots.AxesSubplot at 0x7f4593c44fd0>"
      ]
     },
     "execution_count": 42,
     "metadata": {},
     "output_type": "execute_result"
    },
    {
     "data": {
      "image/png": "[encoded data removed]",
      "text/plain": [
       "<Figure size 432x288 with 1 Axes>"
      ]
     },
     "metadata": {
      "needs_background": "light"
     },
     "output_type": "display_data"
    }
   ],
   "source": [
    "df_insurance[df_insurance.children_description == 'no children'].charges.plot.density()\n",
    "df_insurance[df_insurance.children_description == 'up to 3 children'].charges.plot.density()\n",
    "df_insurance[df_insurance.children_description == 'more than 3 children'].charges.plot.density()"
   ]
  },
  {
   "cell_type": "code",
   "execution_count": 43,
   "metadata": {},
   "outputs": [
    {
     "data": {
      "text/plain": [
       "<matplotlib.axes._subplots.AxesSubplot at 0x7f4593ba8550>"
      ]
     },
     "execution_count": 43,
     "metadata": {},
     "output_type": "execute_result"
    },
    {
     "data": {
      "image/png": "[encoded data removed]",
      "text/plain": [
       "<Figure size 432x288 with 1 Axes>"
      ]
     },
     "metadata": {
      "needs_background": "light"
     },
     "output_type": "display_data"
    }
   ],
   "source": [
    "df_insurance[df_insurance.smoker == 'yes'].charges.plot.density()"
   ]
  },
  {
   "cell_type": "code",
   "execution_count": 44,
   "metadata": {},
   "outputs": [
    {
     "data": {
      "text/html": [
       "<div>\n",
       "<style scoped>\n",
       "    .dataframe tbody tr th:only-of-type {\n",
       "        vertical-align: middle;\n",
       "    }\n",
       "\n",
       "    .dataframe tbody tr th {\n",
       "        vertical-align: top;\n",
       "    }\n",
       "\n",
       "    .dataframe thead th {\n",
       "        text-align: right;\n",
       "    }\n",
       "</style>\n",
       "<table border=\"1\" class=\"dataframe\">\n",
       "  <thead>\n",
       "    <tr style=\"text-align: right;\">\n",
       "      <th></th>\n",
       "      <th>age</th>\n",
       "      <th>sex</th>\n",
       "      <th>bmi</th>\n",
       "      <th>children</th>\n",
       "      <th>smoker</th>\n",
       "      <th>region</th>\n",
       "      <th>charges</th>\n",
       "      <th>age_discretized</th>\n",
       "      <th>bmi_description</th>\n",
       "      <th>children_description</th>\n",
       "      <th>charges_log</th>\n",
       "      <th>charges_minmax</th>\n",
       "    </tr>\n",
       "  </thead>\n",
       "  <tbody>\n",
       "    <tr>\n",
       "      <th>0</th>\n",
       "      <td>19</td>\n",
       "      <td>female</td>\n",
       "      <td>27.90</td>\n",
       "      <td>0</td>\n",
       "      <td>yes</td>\n",
       "      <td>southwest</td>\n",
       "      <td>16884.9240</td>\n",
       "      <td>0.0</td>\n",
       "      <td>overweight</td>\n",
       "      <td>no children</td>\n",
       "      <td>9.734176</td>\n",
       "      <td>0.256431</td>\n",
       "    </tr>\n",
       "    <tr>\n",
       "      <th>11</th>\n",
       "      <td>62</td>\n",
       "      <td>female</td>\n",
       "      <td>26.29</td>\n",
       "      <td>0</td>\n",
       "      <td>yes</td>\n",
       "      <td>southeast</td>\n",
       "      <td>27808.7251</td>\n",
       "      <td>6.0</td>\n",
       "      <td>overweight</td>\n",
       "      <td>no children</td>\n",
       "      <td>10.233105</td>\n",
       "      <td>0.434137</td>\n",
       "    </tr>\n",
       "    <tr>\n",
       "      <th>14</th>\n",
       "      <td>27</td>\n",
       "      <td>male</td>\n",
       "      <td>42.13</td>\n",
       "      <td>0</td>\n",
       "      <td>yes</td>\n",
       "      <td>southeast</td>\n",
       "      <td>39611.7577</td>\n",
       "      <td>1.0</td>\n",
       "      <td>obese</td>\n",
       "      <td>no children</td>\n",
       "      <td>10.586881</td>\n",
       "      <td>0.626147</td>\n",
       "    </tr>\n",
       "    <tr>\n",
       "      <th>19</th>\n",
       "      <td>30</td>\n",
       "      <td>male</td>\n",
       "      <td>35.30</td>\n",
       "      <td>0</td>\n",
       "      <td>yes</td>\n",
       "      <td>southwest</td>\n",
       "      <td>36837.4670</td>\n",
       "      <td>2.0</td>\n",
       "      <td>obese</td>\n",
       "      <td>no children</td>\n",
       "      <td>10.514271</td>\n",
       "      <td>0.581015</td>\n",
       "    </tr>\n",
       "    <tr>\n",
       "      <th>23</th>\n",
       "      <td>34</td>\n",
       "      <td>female</td>\n",
       "      <td>31.92</td>\n",
       "      <td>1</td>\n",
       "      <td>yes</td>\n",
       "      <td>northeast</td>\n",
       "      <td>37701.8768</td>\n",
       "      <td>2.0</td>\n",
       "      <td>obese</td>\n",
       "      <td>up to 3 children</td>\n",
       "      <td>10.537465</td>\n",
       "      <td>0.595077</td>\n",
       "    </tr>\n",
       "  </tbody>\n",
       "</table>\n",
       "</div>"
      ],
      "text/plain": [
       "    age     sex    bmi  children smoker     region     charges  \\\n",
       "0    19  female  27.90         0    yes  southwest  16884.9240   \n",
       "11   62  female  26.29         0    yes  southeast  27808.7251   \n",
       "14   27    male  42.13         0    yes  southeast  39611.7577   \n",
       "19   30    male  35.30         0    yes  southwest  36837.4670   \n",
       "23   34  female  31.92         1    yes  northeast  37701.8768   \n",
       "\n",
       "    age_discretized bmi_description children_description  charges_log  \\\n",
       "0               0.0      overweight          no children     9.734176   \n",
       "11              6.0      overweight          no children    10.233105   \n",
       "14              1.0           obese          no children    10.586881   \n",
       "19              2.0           obese          no children    10.514271   \n",
       "23              2.0           obese     up to 3 children    10.537465   \n",
       "\n",
       "    charges_minmax  \n",
       "0         0.256431  \n",
       "11        0.434137  \n",
       "14        0.626147  \n",
       "19        0.581015  \n",
       "23        0.595077  "
      ]
     },
     "execution_count": 44,
     "metadata": {},
     "output_type": "execute_result"
    }
   ],
   "source": [
    "df_subspace = df_insurance[df_insurance.smoker == 'yes']\n",
    "df_subspace.head()"
   ]
  },
  {
   "cell_type": "code",
   "execution_count": 45,
   "metadata": {},
   "outputs": [
    {
     "data": {
      "text/plain": [
       "<matplotlib.axes._subplots.AxesSubplot at 0x7f4593b73d60>"
      ]
     },
     "execution_count": 45,
     "metadata": {},
     "output_type": "execute_result"
    },
    {
     "data": {
      "image/png": "[encoded data removed]",
      "text/plain": [
       "<Figure size 432x288 with 1 Axes>"
      ]
     },
     "metadata": {
      "needs_background": "light"
     },
     "output_type": "display_data"
    }
   ],
   "source": [
    "df_subspace[df_subspace.sex == 'male'].charges.plot.density()\n",
    "df_subspace[df_subspace.sex == 'female'].charges.plot.density()"
   ]
  },
  {
   "cell_type": "code",
   "execution_count": 46,
   "metadata": {},
   "outputs": [
    {
     "data": {
      "text/plain": [
       "<matplotlib.axes._subplots.AxesSubplot at 0x7f4593b4a400>"
      ]
     },
     "execution_count": 46,
     "metadata": {},
     "output_type": "execute_result"
    },
    {
     "data": {
      "image/png": "[encoded data removed]",
      "text/plain": [
       "<Figure size 432x288 with 1 Axes>"
      ]
     },
     "metadata": {
      "needs_background": "light"
     },
     "output_type": "display_data"
    }
   ],
   "source": [
    "df_subspace[df_subspace.bmi_description == 'overweight'].charges.plot.density()\n",
    "df_subspace[df_subspace.bmi_description == 'obese'].charges.plot.density()\n",
    "df_subspace[df_subspace.bmi_description == 'normal'].charges.plot.density()\n",
    "df_subspace[df_subspace.bmi_description == 'underweight'].charges.plot.density()"
   ]
  },
  {
   "cell_type": "code",
   "execution_count": 47,
   "metadata": {},
   "outputs": [
    {
     "data": {
      "text/plain": [
       "<matplotlib.axes._subplots.AxesSubplot at 0x7f4593ab4fd0>"
      ]
     },
     "execution_count": 47,
     "metadata": {},
     "output_type": "execute_result"
    },
    {
     "data": {
      "image/png": "[encoded data removed]",
      "text/plain": [
       "<Figure size 432x288 with 1 Axes>"
      ]
     },
     "metadata": {
      "needs_background": "light"
     },
     "output_type": "display_data"
    }
   ],
   "source": [
    "df_subspace[df_subspace.bmi_description == 'obese'].charges.plot.density()\n",
    "df_subspace[df_subspace.bmi_description != 'obese'].charges.plot.density()"
   ]
  },
  {
   "cell_type": "code",
   "execution_count": 48,
   "metadata": {},
   "outputs": [
    {
     "data": {
      "text/html": [
       "<div>\n",
       "<style scoped>\n",
       "    .dataframe tbody tr th:only-of-type {\n",
       "        vertical-align: middle;\n",
       "    }\n",
       "\n",
       "    .dataframe tbody tr th {\n",
       "        vertical-align: top;\n",
       "    }\n",
       "\n",
       "    .dataframe thead th {\n",
       "        text-align: right;\n",
       "    }\n",
       "</style>\n",
       "<table border=\"1\" class=\"dataframe\">\n",
       "  <thead>\n",
       "    <tr style=\"text-align: right;\">\n",
       "      <th></th>\n",
       "      <th>age</th>\n",
       "      <th>sex</th>\n",
       "      <th>bmi</th>\n",
       "      <th>children</th>\n",
       "      <th>smoker</th>\n",
       "      <th>region</th>\n",
       "      <th>charges</th>\n",
       "      <th>age_discretized</th>\n",
       "      <th>bmi_description</th>\n",
       "      <th>children_description</th>\n",
       "      <th>charges_log</th>\n",
       "      <th>charges_minmax</th>\n",
       "      <th>smoker_bmi</th>\n",
       "    </tr>\n",
       "  </thead>\n",
       "  <tbody>\n",
       "    <tr>\n",
       "      <th>0</th>\n",
       "      <td>19</td>\n",
       "      <td>female</td>\n",
       "      <td>27.900</td>\n",
       "      <td>0</td>\n",
       "      <td>yes</td>\n",
       "      <td>southwest</td>\n",
       "      <td>16884.92400</td>\n",
       "      <td>0.0</td>\n",
       "      <td>overweight</td>\n",
       "      <td>no children</td>\n",
       "      <td>9.734176</td>\n",
       "      <td>0.256431</td>\n",
       "      <td>yes_overweight</td>\n",
       "    </tr>\n",
       "    <tr>\n",
       "      <th>1</th>\n",
       "      <td>18</td>\n",
       "      <td>male</td>\n",
       "      <td>33.770</td>\n",
       "      <td>1</td>\n",
       "      <td>no</td>\n",
       "      <td>southeast</td>\n",
       "      <td>1725.55230</td>\n",
       "      <td>0.0</td>\n",
       "      <td>obese</td>\n",
       "      <td>up to 3 children</td>\n",
       "      <td>7.453302</td>\n",
       "      <td>0.009821</td>\n",
       "      <td>no_obese</td>\n",
       "    </tr>\n",
       "    <tr>\n",
       "      <th>2</th>\n",
       "      <td>28</td>\n",
       "      <td>male</td>\n",
       "      <td>33.000</td>\n",
       "      <td>3</td>\n",
       "      <td>no</td>\n",
       "      <td>southeast</td>\n",
       "      <td>4449.46200</td>\n",
       "      <td>2.0</td>\n",
       "      <td>obese</td>\n",
       "      <td>up to 3 children</td>\n",
       "      <td>8.400538</td>\n",
       "      <td>0.054133</td>\n",
       "      <td>no_obese</td>\n",
       "    </tr>\n",
       "    <tr>\n",
       "      <th>3</th>\n",
       "      <td>33</td>\n",
       "      <td>male</td>\n",
       "      <td>22.705</td>\n",
       "      <td>0</td>\n",
       "      <td>no</td>\n",
       "      <td>northwest</td>\n",
       "      <td>21984.47061</td>\n",
       "      <td>2.0</td>\n",
       "      <td>normal</td>\n",
       "      <td>no children</td>\n",
       "      <td>9.998092</td>\n",
       "      <td>0.339389</td>\n",
       "      <td>no_normal</td>\n",
       "    </tr>\n",
       "    <tr>\n",
       "      <th>4</th>\n",
       "      <td>32</td>\n",
       "      <td>male</td>\n",
       "      <td>28.880</td>\n",
       "      <td>0</td>\n",
       "      <td>no</td>\n",
       "      <td>northwest</td>\n",
       "      <td>3866.85520</td>\n",
       "      <td>2.0</td>\n",
       "      <td>overweight</td>\n",
       "      <td>no children</td>\n",
       "      <td>8.260197</td>\n",
       "      <td>0.044655</td>\n",
       "      <td>no_overweight</td>\n",
       "    </tr>\n",
       "  </tbody>\n",
       "</table>\n",
       "</div>"
      ],
      "text/plain": [
       "   age     sex     bmi  children smoker     region      charges  \\\n",
       "0   19  female  27.900         0    yes  southwest  16884.92400   \n",
       "1   18    male  33.770         1     no  southeast   1725.55230   \n",
       "2   28    male  33.000         3     no  southeast   4449.46200   \n",
       "3   33    male  22.705         0     no  northwest  21984.47061   \n",
       "4   32    male  28.880         0     no  northwest   3866.85520   \n",
       "\n",
       "   age_discretized bmi_description children_description  charges_log  \\\n",
       "0              0.0      overweight          no children     9.734176   \n",
       "1              0.0           obese     up to 3 children     7.453302   \n",
       "2              2.0           obese     up to 3 children     8.400538   \n",
       "3              2.0          normal          no children     9.998092   \n",
       "4              2.0      overweight          no children     8.260197   \n",
       "\n",
       "   charges_minmax      smoker_bmi  \n",
       "0        0.256431  yes_overweight  \n",
       "1        0.009821        no_obese  \n",
       "2        0.054133        no_obese  \n",
       "3        0.339389       no_normal  \n",
       "4        0.044655   no_overweight  "
      ]
     },
     "execution_count": 48,
     "metadata": {},
     "output_type": "execute_result"
    }
   ],
   "source": [
    "df_insurance =  df_insurance.assign(smoker_bmi = df_insurance.apply(lambda x: '{}_{}'.format(x.smoker, x.bmi_description), axis=1))\n",
    "df_insurance.head()"
   ]
  },
  {
   "cell_type": "code",
   "execution_count": 49,
   "metadata": {},
   "outputs": [
    {
     "data": {
      "text/plain": [
       "[<matplotlib.axes._subplots.AxesSubplot at 0x7f4593fdbc40>,\n",
       " <matplotlib.axes._subplots.AxesSubplot at 0x7f4593fdbc40>,\n",
       " <matplotlib.axes._subplots.AxesSubplot at 0x7f4593fdbc40>]"
      ]
     },
     "execution_count": 49,
     "metadata": {},
     "output_type": "execute_result"
    }
   ],
   "source": [
    "df_insurance.smoker_bmi = df_insurance.smoker_bmi.apply(lambda x: 'no' if x.startswith('no') else x)\n",
    "df_insurance.smoker_bmi = df_insurance.smoker_bmi.apply(lambda x: 'yes_not_obese' if x.startswith('yes') and 'obese' not in x else x)\n",
    "[df_insurance[df_insurance.smoker_bmi == v].charges.plot.density() for v in df_insurance.smoker_bmi.unique()]"
   ]
  },
  {
   "cell_type": "code",
   "execution_count": 50,
   "metadata": {},
   "outputs": [
    {
     "data": {
      "text/plain": [
       "[]"
      ]
     },
     "execution_count": 50,
     "metadata": {},
     "output_type": "execute_result"
    },
    {
     "data": {
      "image/png": "[encoded data removed]",
      "text/plain": [
       "<Figure size 432x288 with 1 Axes>"
      ]
     },
     "metadata": {
      "needs_background": "light"
     },
     "output_type": "display_data"
    }
   ],
   "source": [
    "plt.plot()"
   ]
  },
  {
   "cell_type": "code",
   "execution_count": 51,
   "metadata": {},
   "outputs": [],
   "source": [
    "from sklearn.preprocessing import OneHotEncoder\n",
    "from sklearn.preprocessing import MinMaxScaler\n",
    "from sklearn.model_selection import KFold\n",
    "from sklearn.linear_model import LinearRegression\n",
    "from sklearn.metrics import r2_score\n",
    "from sklearn.metrics import mean_absolute_error\n",
    "from sklearn.linear_model import LassoCV\n",
    "from sklearn.linear_model import RidgeCV"
   ]
  },
  {
   "cell_type": "code",
   "execution_count": 52,
   "metadata": {},
   "outputs": [
    {
     "name": "stdout",
     "output_type": "stream",
     "text": [
      "--------------------------------------------------\n",
      "Algoritmo: lr\n",
      "--------------------------------------------------\n",
      "Treino - Média MAE: 2456.651438537296\n",
      "Teste - Média MAE: 2523.9121950298345\n",
      "--------------------------------------------------\n",
      "Treino - Média R2: 0.8649195826704412\n",
      "Teste - Média R2: 0.8585664442886642\n",
      "--------------------------------------------------\n",
      "[2821.52440237 2202.45618305 2454.15663906 2716.59171    2424.83204068]\n",
      "\n"
     ]
    },
    {
     "name": "stderr",
     "output_type": "stream",
     "text": [
      "/home/geovanileitao/Documentos/repositorio/pos-data-science/.venv/lib/python3.8/site-packages/sklearn/linear_model/_coordinate_descent.py:1088: DataConversionWarning: A column-vector y was passed when a 1d array was expected. Please change the shape of y to (n_samples, ), for example using ravel().\n",
      "  y = column_or_1d(y, warn=True)\n",
      "/home/geovanileitao/Documentos/repositorio/pos-data-science/.venv/lib/python3.8/site-packages/sklearn/linear_model/_coordinate_descent.py:470: UserWarning: Coordinate descent with alpha=0 may lead to unexpected results and is discouraged.\n",
      "  model = cd_fast.enet_coordinate_descent_gram(\n",
      "/home/geovanileitao/Documentos/repositorio/pos-data-science/.venv/lib/python3.8/site-packages/sklearn/linear_model/_coordinate_descent.py:470: ConvergenceWarning: Objective did not converge. You might want to increase the number of iterations. Duality gap: 8349964370.209869, tolerance: 12090581.617336083\n",
      "  model = cd_fast.enet_coordinate_descent_gram(\n",
      "/home/geovanileitao/Documentos/repositorio/pos-data-science/.venv/lib/python3.8/site-packages/sklearn/linear_model/_coordinate_descent.py:470: UserWarning: Coordinate descent with alpha=0 may lead to unexpected results and is discouraged.\n",
      "  model = cd_fast.enet_coordinate_descent_gram(\n",
      "/home/geovanileitao/Documentos/repositorio/pos-data-science/.venv/lib/python3.8/site-packages/sklearn/linear_model/_coordinate_descent.py:470: ConvergenceWarning: Objective did not converge. You might want to increase the number of iterations. Duality gap: 8941431298.3322, tolerance: 11585358.094125943\n",
      "  model = cd_fast.enet_coordinate_descent_gram(\n",
      "/home/geovanileitao/Documentos/repositorio/pos-data-science/.venv/lib/python3.8/site-packages/sklearn/linear_model/_coordinate_descent.py:470: UserWarning: Coordinate descent with alpha=0 may lead to unexpected results and is discouraged.\n",
      "  model = cd_fast.enet_coordinate_descent_gram(\n",
      "/home/geovanileitao/Documentos/repositorio/pos-data-science/.venv/lib/python3.8/site-packages/sklearn/linear_model/_coordinate_descent.py:470: ConvergenceWarning: Objective did not converge. You might want to increase the number of iterations. Duality gap: 8815930101.61377, tolerance: 11671235.245079705\n",
      "  model = cd_fast.enet_coordinate_descent_gram(\n",
      "/home/geovanileitao/Documentos/repositorio/pos-data-science/.venv/lib/python3.8/site-packages/sklearn/linear_model/_coordinate_descent.py:470: UserWarning: Coordinate descent with alpha=0 may lead to unexpected results and is discouraged.\n",
      "  model = cd_fast.enet_coordinate_descent_gram(\n",
      "/home/geovanileitao/Documentos/repositorio/pos-data-science/.venv/lib/python3.8/site-packages/sklearn/linear_model/_coordinate_descent.py:470: ConvergenceWarning: Objective did not converge. You might want to increase the number of iterations. Duality gap: 8753384613.764664, tolerance: 10527361.027526448\n",
      "  model = cd_fast.enet_coordinate_descent_gram(\n",
      "/home/geovanileitao/Documentos/repositorio/pos-data-science/.venv/lib/python3.8/site-packages/sklearn/linear_model/_coordinate_descent.py:470: UserWarning: Coordinate descent with alpha=0 may lead to unexpected results and is discouraged.\n",
      "  model = cd_fast.enet_coordinate_descent_gram(\n",
      "/home/geovanileitao/Documentos/repositorio/pos-data-science/.venv/lib/python3.8/site-packages/sklearn/linear_model/_coordinate_descent.py:470: ConvergenceWarning: Objective did not converge. You might want to increase the number of iterations. Duality gap: 8454474748.030899, tolerance: 12007170.899454553\n",
      "  model = cd_fast.enet_coordinate_descent_gram(\n",
      "/home/geovanileitao/Documentos/repositorio/pos-data-science/.venv/lib/python3.8/site-packages/sklearn/linear_model/_coordinate_descent.py:1088: DataConversionWarning: A column-vector y was passed when a 1d array was expected. Please change the shape of y to (n_samples, ), for example using ravel().\n",
      "  y = column_or_1d(y, warn=True)\n",
      "/home/geovanileitao/Documentos/repositorio/pos-data-science/.venv/lib/python3.8/site-packages/sklearn/linear_model/_coordinate_descent.py:470: UserWarning: Coordinate descent with alpha=0 may lead to unexpected results and is discouraged.\n",
      "  model = cd_fast.enet_coordinate_descent_gram(\n",
      "/home/geovanileitao/Documentos/repositorio/pos-data-science/.venv/lib/python3.8/site-packages/sklearn/linear_model/_coordinate_descent.py:470: ConvergenceWarning: Objective did not converge. You might want to increase the number of iterations. Duality gap: 8225984146.412277, tolerance: 12205254.730786715\n",
      "  model = cd_fast.enet_coordinate_descent_gram(\n",
      "/home/geovanileitao/Documentos/repositorio/pos-data-science/.venv/lib/python3.8/site-packages/sklearn/linear_model/_coordinate_descent.py:470: UserWarning: Coordinate descent with alpha=0 may lead to unexpected results and is discouraged.\n",
      "  model = cd_fast.enet_coordinate_descent_gram(\n",
      "/home/geovanileitao/Documentos/repositorio/pos-data-science/.venv/lib/python3.8/site-packages/sklearn/linear_model/_coordinate_descent.py:470: ConvergenceWarning: Objective did not converge. You might want to increase the number of iterations. Duality gap: 7628576882.940384, tolerance: 12524686.045119168\n",
      "  model = cd_fast.enet_coordinate_descent_gram(\n",
      "/home/geovanileitao/Documentos/repositorio/pos-data-science/.venv/lib/python3.8/site-packages/sklearn/linear_model/_coordinate_descent.py:470: UserWarning: Coordinate descent with alpha=0 may lead to unexpected results and is discouraged.\n",
      "  model = cd_fast.enet_coordinate_descent_gram(\n",
      "/home/geovanileitao/Documentos/repositorio/pos-data-science/.venv/lib/python3.8/site-packages/sklearn/linear_model/_coordinate_descent.py:470: ConvergenceWarning: Objective did not converge. You might want to increase the number of iterations. Duality gap: 8377870195.494308, tolerance: 11997233.16403163\n",
      "  model = cd_fast.enet_coordinate_descent_gram(\n",
      "/home/geovanileitao/Documentos/repositorio/pos-data-science/.venv/lib/python3.8/site-packages/sklearn/linear_model/_coordinate_descent.py:470: UserWarning: Coordinate descent with alpha=0 may lead to unexpected results and is discouraged.\n",
      "  model = cd_fast.enet_coordinate_descent_gram(\n",
      "/home/geovanileitao/Documentos/repositorio/pos-data-science/.venv/lib/python3.8/site-packages/sklearn/linear_model/_coordinate_descent.py:470: ConvergenceWarning: Objective did not converge. You might want to increase the number of iterations. Duality gap: 8294412629.810898, tolerance: 12190877.754109088\n",
      "  model = cd_fast.enet_coordinate_descent_gram(\n",
      "/home/geovanileitao/Documentos/repositorio/pos-data-science/.venv/lib/python3.8/site-packages/sklearn/linear_model/_coordinate_descent.py:470: UserWarning: Coordinate descent with alpha=0 may lead to unexpected results and is discouraged.\n",
      "  model = cd_fast.enet_coordinate_descent_gram(\n",
      "/home/geovanileitao/Documentos/repositorio/pos-data-science/.venv/lib/python3.8/site-packages/sklearn/linear_model/_coordinate_descent.py:470: ConvergenceWarning: Objective did not converge. You might want to increase the number of iterations. Duality gap: 8204187688.423752, tolerance: 11455689.28982287\n",
      "  model = cd_fast.enet_coordinate_descent_gram(\n",
      "/home/geovanileitao/Documentos/repositorio/pos-data-science/.venv/lib/python3.8/site-packages/sklearn/linear_model/_coordinate_descent.py:1088: DataConversionWarning: A column-vector y was passed when a 1d array was expected. Please change the shape of y to (n_samples, ), for example using ravel().\n",
      "  y = column_or_1d(y, warn=True)\n",
      "/home/geovanileitao/Documentos/repositorio/pos-data-science/.venv/lib/python3.8/site-packages/sklearn/linear_model/_coordinate_descent.py:470: UserWarning: Coordinate descent with alpha=0 may lead to unexpected results and is discouraged.\n",
      "  model = cd_fast.enet_coordinate_descent_gram(\n",
      "/home/geovanileitao/Documentos/repositorio/pos-data-science/.venv/lib/python3.8/site-packages/sklearn/linear_model/_coordinate_descent.py:470: ConvergenceWarning: Objective did not converge. You might want to increase the number of iterations. Duality gap: 8648582656.845184, tolerance: 11828137.558229221\n",
      "  model = cd_fast.enet_coordinate_descent_gram(\n",
      "/home/geovanileitao/Documentos/repositorio/pos-data-science/.venv/lib/python3.8/site-packages/sklearn/linear_model/_coordinate_descent.py:470: UserWarning: Coordinate descent with alpha=0 may lead to unexpected results and is discouraged.\n",
      "  model = cd_fast.enet_coordinate_descent_gram(\n",
      "/home/geovanileitao/Documentos/repositorio/pos-data-science/.venv/lib/python3.8/site-packages/sklearn/linear_model/_coordinate_descent.py:470: ConvergenceWarning: Objective did not converge. You might want to increase the number of iterations. Duality gap: 8509298693.815338, tolerance: 12231087.337125078\n",
      "  model = cd_fast.enet_coordinate_descent_gram(\n",
      "/home/geovanileitao/Documentos/repositorio/pos-data-science/.venv/lib/python3.8/site-packages/sklearn/linear_model/_coordinate_descent.py:470: UserWarning: Coordinate descent with alpha=0 may lead to unexpected results and is discouraged.\n",
      "  model = cd_fast.enet_coordinate_descent_gram(\n",
      "/home/geovanileitao/Documentos/repositorio/pos-data-science/.venv/lib/python3.8/site-packages/sklearn/linear_model/_coordinate_descent.py:470: ConvergenceWarning: Objective did not converge. You might want to increase the number of iterations. Duality gap: 7218765207.489487, tolerance: 11920040.86159566\n",
      "  model = cd_fast.enet_coordinate_descent_gram(\n",
      "/home/geovanileitao/Documentos/repositorio/pos-data-science/.venv/lib/python3.8/site-packages/sklearn/linear_model/_coordinate_descent.py:470: UserWarning: Coordinate descent with alpha=0 may lead to unexpected results and is discouraged.\n",
      "  model = cd_fast.enet_coordinate_descent_gram(\n",
      "/home/geovanileitao/Documentos/repositorio/pos-data-science/.venv/lib/python3.8/site-packages/sklearn/linear_model/_coordinate_descent.py:470: ConvergenceWarning: Objective did not converge. You might want to increase the number of iterations. Duality gap: 7455123743.735458, tolerance: 12213754.046490777\n",
      "  model = cd_fast.enet_coordinate_descent_gram(\n",
      "/home/geovanileitao/Documentos/repositorio/pos-data-science/.venv/lib/python3.8/site-packages/sklearn/linear_model/_coordinate_descent.py:470: UserWarning: Coordinate descent with alpha=0 may lead to unexpected results and is discouraged.\n",
      "  model = cd_fast.enet_coordinate_descent_gram(\n",
      "/home/geovanileitao/Documentos/repositorio/pos-data-science/.venv/lib/python3.8/site-packages/sklearn/linear_model/_coordinate_descent.py:470: ConvergenceWarning: Objective did not converge. You might want to increase the number of iterations. Duality gap: 8932034583.490372, tolerance: 12584272.21181872\n",
      "  model = cd_fast.enet_coordinate_descent_gram(\n",
      "/home/geovanileitao/Documentos/repositorio/pos-data-science/.venv/lib/python3.8/site-packages/sklearn/linear_model/_coordinate_descent.py:1088: DataConversionWarning: A column-vector y was passed when a 1d array was expected. Please change the shape of y to (n_samples, ), for example using ravel().\n",
      "  y = column_or_1d(y, warn=True)\n",
      "/home/geovanileitao/Documentos/repositorio/pos-data-science/.venv/lib/python3.8/site-packages/sklearn/linear_model/_coordinate_descent.py:470: UserWarning: Coordinate descent with alpha=0 may lead to unexpected results and is discouraged.\n",
      "  model = cd_fast.enet_coordinate_descent_gram(\n",
      "/home/geovanileitao/Documentos/repositorio/pos-data-science/.venv/lib/python3.8/site-packages/sklearn/linear_model/_coordinate_descent.py:470: ConvergenceWarning: Objective did not converge. You might want to increase the number of iterations. Duality gap: 7735905785.506836, tolerance: 12230310.52989675\n",
      "  model = cd_fast.enet_coordinate_descent_gram(\n",
      "/home/geovanileitao/Documentos/repositorio/pos-data-science/.venv/lib/python3.8/site-packages/sklearn/linear_model/_coordinate_descent.py:470: UserWarning: Coordinate descent with alpha=0 may lead to unexpected results and is discouraged.\n",
      "  model = cd_fast.enet_coordinate_descent_gram(\n",
      "/home/geovanileitao/Documentos/repositorio/pos-data-science/.venv/lib/python3.8/site-packages/sklearn/linear_model/_coordinate_descent.py:470: ConvergenceWarning: Objective did not converge. You might want to increase the number of iterations. Duality gap: 7500750199.200287, tolerance: 11992424.580409758\n",
      "  model = cd_fast.enet_coordinate_descent_gram(\n"
     ]
    },
    {
     "name": "stderr",
     "output_type": "stream",
     "text": [
      "/home/geovanileitao/Documentos/repositorio/pos-data-science/.venv/lib/python3.8/site-packages/sklearn/linear_model/_coordinate_descent.py:470: UserWarning: Coordinate descent with alpha=0 may lead to unexpected results and is discouraged.\n",
      "  model = cd_fast.enet_coordinate_descent_gram(\n",
      "/home/geovanileitao/Documentos/repositorio/pos-data-science/.venv/lib/python3.8/site-packages/sklearn/linear_model/_coordinate_descent.py:470: ConvergenceWarning: Objective did not converge. You might want to increase the number of iterations. Duality gap: 8540753304.695709, tolerance: 11757047.105027985\n",
      "  model = cd_fast.enet_coordinate_descent_gram(\n",
      "/home/geovanileitao/Documentos/repositorio/pos-data-science/.venv/lib/python3.8/site-packages/sklearn/linear_model/_coordinate_descent.py:470: UserWarning: Coordinate descent with alpha=0 may lead to unexpected results and is discouraged.\n",
      "  model = cd_fast.enet_coordinate_descent_gram(\n",
      "/home/geovanileitao/Documentos/repositorio/pos-data-science/.venv/lib/python3.8/site-packages/sklearn/linear_model/_coordinate_descent.py:470: ConvergenceWarning: Objective did not converge. You might want to increase the number of iterations. Duality gap: 7510451948.492889, tolerance: 12433525.672947494\n",
      "  model = cd_fast.enet_coordinate_descent_gram(\n",
      "/home/geovanileitao/Documentos/repositorio/pos-data-science/.venv/lib/python3.8/site-packages/sklearn/linear_model/_coordinate_descent.py:470: UserWarning: Coordinate descent with alpha=0 may lead to unexpected results and is discouraged.\n",
      "  model = cd_fast.enet_coordinate_descent_gram(\n",
      "/home/geovanileitao/Documentos/repositorio/pos-data-science/.venv/lib/python3.8/site-packages/sklearn/linear_model/_coordinate_descent.py:470: ConvergenceWarning: Objective did not converge. You might want to increase the number of iterations. Duality gap: 8290600757.956467, tolerance: 13166083.579216162\n",
      "  model = cd_fast.enet_coordinate_descent_gram(\n",
      "/home/geovanileitao/Documentos/repositorio/pos-data-science/.venv/lib/python3.8/site-packages/sklearn/linear_model/_coordinate_descent.py:1088: DataConversionWarning: A column-vector y was passed when a 1d array was expected. Please change the shape of y to (n_samples, ), for example using ravel().\n",
      "  y = column_or_1d(y, warn=True)\n",
      "/home/geovanileitao/Documentos/repositorio/pos-data-science/.venv/lib/python3.8/site-packages/sklearn/linear_model/_coordinate_descent.py:470: UserWarning: Coordinate descent with alpha=0 may lead to unexpected results and is discouraged.\n",
      "  model = cd_fast.enet_coordinate_descent_gram(\n",
      "/home/geovanileitao/Documentos/repositorio/pos-data-science/.venv/lib/python3.8/site-packages/sklearn/linear_model/_coordinate_descent.py:470: ConvergenceWarning: Objective did not converge. You might want to increase the number of iterations. Duality gap: 7512794593.55365, tolerance: 13273490.65159082\n",
      "  model = cd_fast.enet_coordinate_descent_gram(\n",
      "/home/geovanileitao/Documentos/repositorio/pos-data-science/.venv/lib/python3.8/site-packages/sklearn/linear_model/_coordinate_descent.py:470: UserWarning: Coordinate descent with alpha=0 may lead to unexpected results and is discouraged.\n",
      "  model = cd_fast.enet_coordinate_descent_gram(\n",
      "/home/geovanileitao/Documentos/repositorio/pos-data-science/.venv/lib/python3.8/site-packages/sklearn/linear_model/_coordinate_descent.py:470: ConvergenceWarning: Objective did not converge. You might want to increase the number of iterations. Duality gap: 8448006390.222717, tolerance: 13478229.964116836\n",
      "  model = cd_fast.enet_coordinate_descent_gram(\n",
      "/home/geovanileitao/Documentos/repositorio/pos-data-science/.venv/lib/python3.8/site-packages/sklearn/linear_model/_coordinate_descent.py:470: UserWarning: Coordinate descent with alpha=0 may lead to unexpected results and is discouraged.\n",
      "  model = cd_fast.enet_coordinate_descent_gram(\n",
      "/home/geovanileitao/Documentos/repositorio/pos-data-science/.venv/lib/python3.8/site-packages/sklearn/linear_model/_coordinate_descent.py:470: ConvergenceWarning: Objective did not converge. You might want to increase the number of iterations. Duality gap: 7674371034.035858, tolerance: 12617716.790386545\n",
      "  model = cd_fast.enet_coordinate_descent_gram(\n",
      "/home/geovanileitao/Documentos/repositorio/pos-data-science/.venv/lib/python3.8/site-packages/sklearn/linear_model/_coordinate_descent.py:470: UserWarning: Coordinate descent with alpha=0 may lead to unexpected results and is discouraged.\n",
      "  model = cd_fast.enet_coordinate_descent_gram(\n",
      "/home/geovanileitao/Documentos/repositorio/pos-data-science/.venv/lib/python3.8/site-packages/sklearn/linear_model/_coordinate_descent.py:470: ConvergenceWarning: Objective did not converge. You might want to increase the number of iterations. Duality gap: 8342954120.328812, tolerance: 12968345.761075819\n",
      "  model = cd_fast.enet_coordinate_descent_gram(\n",
      "/home/geovanileitao/Documentos/repositorio/pos-data-science/.venv/lib/python3.8/site-packages/sklearn/linear_model/_coordinate_descent.py:470: UserWarning: Coordinate descent with alpha=0 may lead to unexpected results and is discouraged.\n",
      "  model = cd_fast.enet_coordinate_descent_gram(\n",
      "/home/geovanileitao/Documentos/repositorio/pos-data-science/.venv/lib/python3.8/site-packages/sklearn/linear_model/_coordinate_descent.py:470: ConvergenceWarning: Objective did not converge. You might want to increase the number of iterations. Duality gap: 7170783698.520782, tolerance: 12740487.338967144\n",
      "  model = cd_fast.enet_coordinate_descent_gram(\n"
     ]
    },
    {
     "name": "stdout",
     "output_type": "stream",
     "text": [
      "--------------------------------------------------\n",
      "Algoritmo: lasso\n",
      "--------------------------------------------------\n",
      "Treino - Média MAE: 2397.762518417155\n",
      "Teste - Média MAE: 2438.2316244155054\n",
      "--------------------------------------------------\n",
      "Treino - Média R2: 0.8658490902145781\n",
      "Teste - Média R2: 0.8557694655596201\n",
      "--------------------------------------------------\n",
      "[2240.86493975 2378.23011436 2431.64860944 2559.37386713 2581.0405914 ]\n",
      "\n",
      "--------------------------------------------------\n",
      "Algoritmo: ridge\n",
      "--------------------------------------------------\n",
      "Treino - Média MAE: 2389.7790142739104\n",
      "Teste - Média MAE: 2454.2450423616506\n",
      "--------------------------------------------------\n",
      "Treino - Média R2: 0.8665210628744988\n",
      "Teste - Média R2: 0.8607366310400776\n",
      "--------------------------------------------------\n",
      "[2434.59067725 1981.86967698 2687.46095618 2744.47838387 2422.82551753]\n",
      "\n"
     ]
    }
   ],
   "source": [
    "def smoker_mapping(x: str) -> int:\n",
    "    if x == 'yes':\n",
    "        return 1\n",
    "    else:\n",
    "        return 0\n",
    "\n",
    "def return_model(alg: str):\n",
    "    model = None\n",
    "    if alg == 'lr':\n",
    "        model = LinearRegression()\n",
    "    elif alg == 'lasso':\n",
    "        model = LassoCV(alphas=np.linspace(0, 5, num=100), cv=KFold(n_splits=k, shuffle=True))\n",
    "    elif alg == 'ridge':\n",
    "        model = RidgeCV(alphas=np.linspace(0, 5, num=100), cv=KFold(n_splits=k, shuffle=True))\n",
    "    \n",
    "    return model\n",
    "\n",
    "def build_features(df_train, df_test):\n",
    "    ohe_sex = OneHotEncoder(sparse=False)\n",
    "    x_train_sex = ohe_sex.fit_transform(df_train.sex.values.reshape(-1, 1))\n",
    "    x_test_sex = ohe_sex.transform(df_test.sex.values.reshape(-1, 1))\n",
    "\n",
    "    ohe_region = OneHotEncoder(sparse=False)\n",
    "    x_train_region = ohe_region.fit_transform(df_train.region.values.reshape(-1, 1))\n",
    "    x_test_region = ohe_region.transform(df_test.region.values.reshape(-1, 1))\n",
    "\n",
    "    ohe_age = OneHotEncoder(sparse=False)\n",
    "    x_train_age_d = ohe_age.fit_transform(df_train.age_discretized.values.reshape(-1, 1))\n",
    "    x_test_age_d = ohe_age.transform(df_test.age_discretized.values.reshape(-1, 1))\n",
    "\n",
    "    ohe_bmi = OneHotEncoder(sparse=False)\n",
    "    x_train_bmi_d = ohe_bmi.fit_transform(df_train.bmi_description.values.reshape(-1, 1))\n",
    "    x_test_bmi_d = ohe_bmi.transform(df_test.bmi_description.values.reshape(-1, 1))\n",
    "\n",
    "    ohe_children = OneHotEncoder(sparse=False)\n",
    "    x_train_children_d = ohe_children.fit_transform(df_train.children_description.values.reshape(-1, 1))\n",
    "    x_test_children_d = ohe_children.transform(df_test.children_description.values.reshape(-1, 1))\n",
    "\n",
    "    ohe_smoker_bmi = OneHotEncoder(sparse=False)\n",
    "    x_train_smoker_bmi = ohe_smoker_bmi.fit_transform(df_train.smoker_bmi.values.reshape(-1, 1))\n",
    "    x_test_smoker_bmi = ohe_smoker_bmi.transform(df_test.smoker_bmi.values.reshape(-1, 1))\n",
    "\n",
    "    mms_age = MinMaxScaler()\n",
    "    x_train_age = mms_age.fit_transform(df_train.age.values.reshape(-1, 1))\n",
    "    x_test_age = mms_age.transform(df_test.age.values.reshape(-1, 1))\n",
    "    \n",
    "    mms_bmi = MinMaxScaler()\n",
    "    x_train_bmi = mms_bmi.fit_transform(df_train.bmi.values.reshape(-1, 1))\n",
    "    x_test_bmi = mms_bmi.transform(df_test.bmi.values.reshape(-1, 1))\n",
    "    \n",
    "    x_train_smoker = df_train.smoker.apply(smoker_mapping).values.reshape(-1, 1)\n",
    "    x_test_smoker = df_test.smoker.apply(smoker_mapping).values.reshape(-1, 1)\n",
    "\n",
    "    x_train = np.hstack([x_train_sex, x_train_region, x_train_age_d, x_train_bmi_d, x_train_children_d, x_train_age, x_train_bmi, x_train_smoker, x_train_smoker_bmi]) # \n",
    "    x_test = np.hstack([x_test_sex, x_test_region, x_test_age_d, x_test_bmi_d, x_test_children_d, x_test_age, x_test_bmi, x_test_smoker, x_test_smoker_bmi]) # \n",
    "\n",
    "    y_train = df_train.charges.values.reshape(-1, 1)\n",
    "    y_test = df_test.charges.values.reshape(-1, 1)\n",
    "\n",
    "    return x_train, y_train, x_test, y_test\n",
    "\n",
    "for alg in ['lr', 'lasso', 'ridge']:\n",
    "    k = 5\n",
    "    mean_r2 = np.zeros(shape=(k, 2))\n",
    "    mean_mae = np.zeros(shape=(k, 2))\n",
    "    cv = KFold(n_splits=k, shuffle=True)\n",
    "    \n",
    "    for fold, (train, test) in enumerate(cv.split(df_insurance)):\n",
    "        df_train = df_insurance.iloc[train]\n",
    "        df_test = df_insurance.iloc[test]\n",
    "\n",
    "        x_train, y_train, x_test, y_test = build_features(df_train, df_test)\n",
    "        \n",
    "        model = return_model(alg)\n",
    "        model.fit(x_train, y_train)\n",
    "        \n",
    "        y_predict_train = model.predict(x_train)\n",
    "        mae_train = mean_absolute_error(y_train, y_predict_train)\n",
    "        r2_train = r2_score(y_train, y_predict_train)\n",
    "\n",
    "        y_predict_test = model.predict(x_test)\n",
    "        mae_test = mean_absolute_error(y_test, y_predict_test)\n",
    "        r2_test = r2_score(y_test, y_predict_test)\n",
    "\n",
    "        mean_mae[fold, 0] = mae_train\n",
    "        mean_mae[fold, 1] = mae_test\n",
    "        \n",
    "        mean_r2[fold, 0] = r2_train\n",
    "        mean_r2[fold, 1] = r2_test\n",
    "\n",
    "    print('-' * 50)\n",
    "    print('Algoritmo:', alg)\n",
    "    print('-' * 50)\n",
    "    print('Treino - Média MAE:', mean_mae[:,0].mean())\n",
    "    print('Teste - Média MAE:', mean_mae[:,1].mean())\n",
    "    print('-' * 50)\n",
    "    print('Treino - Média R2:', mean_r2[:,0].mean())\n",
    "    print('Teste - Média R2:', mean_r2[:,1].mean())\n",
    "    print('-' * 50)\n",
    "    print(mean_mae[:,1])\n",
    "    print()"
   ]
  },
  {
   "cell_type": "code",
   "execution_count": 53,
   "metadata": {},
   "outputs": [
    {
     "name": "stdout",
     "output_type": "stream",
     "text": [
      "Aceita a hipótese nula. As duas médias não são diferentes\n"
     ]
    }
   ],
   "source": [
    "from scipy.stats import ttest_ind\n",
    "\n",
    "res_lr = [2475.38218402, 2609.05832966, 2425.71091203, 2235.02602162, 2583.49276135 ]\n",
    "res_las = [2111.25728745, 2339.21066171, 2800.2501861, 2586.80752494, 2374.25278511 ]\n",
    "\n",
    "t_test = ttest_ind(res_lr, res_las)\n",
    "alpha = 0.05\n",
    "\n",
    "if t_test.pvalue < alpha:\n",
    "    print('Rejeitamos a hipótese nula. As duas médias são diferentes!')\n",
    "else:\n",
    "    print('Aceita a hipótese nula. As duas médias não são diferentes')"
   ]
  },
  {
   "cell_type": "code",
   "execution_count": 55,
   "metadata": {},
   "outputs": [],
   "source": [
    "cv = KFold(n_splits=k, shuffle=True)\n",
    "\n",
    "predicted = list()\n",
    "ground_truth = list()\n",
    "for fold, (train, test) in enumerate(cv.split(df_insurance)):\n",
    "    \n",
    "    df_train = df_insurance.iloc[train]\n",
    "    df_test = df_insurance.iloc[test]\n",
    "    \n",
    "    x_train, y_train, x_test, y_test = build_features(df_train, df_test)\n",
    "    \n",
    "    model = return_model('lr')\n",
    "    model.fit(x_train, y_train)\n",
    "    \n",
    "    predicted.extend(model.predict(x_test))\n",
    "    ground_truth.extend(y_test)"
   ]
  },
  {
   "cell_type": "code",
   "execution_count": 56,
   "metadata": {},
   "outputs": [
    {
     "data": {
      "image/png": "[encoded data removed]",
      "text/plain": [
       "<Figure size 432x288 with 1 Axes>"
      ]
     },
     "metadata": {
      "needs_background": "light"
     },
     "output_type": "display_data"
    }
   ],
   "source": [
    "fig, ax = plt.subplots()\n",
    "\n",
    "ax.scatter(x=predicted, y=ground_truth)\n",
    "ax.plot([0, 70000], [0,70000], 'k--')\n",
    "ax.set_xlim([0, 70000])\n",
    "ax.set_ylim([0, 70000])\n",
    "ax.set_xlabel('Predicted')\n",
    "ax.set_ylabel('Ground Truth')\n",
    "plt.show()"
   ]
  },
  {
   "cell_type": "code",
   "execution_count": 57,
   "metadata": {},
   "outputs": [
    {
     "data": {
      "image/png": "[encoded data removed]",
      "text/plain": [
       "<Figure size 432x288 with 1 Axes>"
      ]
     },
     "metadata": {
      "needs_background": "light"
     },
     "output_type": "display_data"
    }
   ],
   "source": [
    "fig, ax = plt.subplots()\n",
    "\n",
    "residuals = [ ground_truth[i] - predicted[i] for i in range(len(predicted))]\n",
    "ax.scatter(x=predicted, y=residuals)\n",
    "ax.plot([0, 50000], [0,0], 'k--')\n",
    "ax.set_xlabel('Predicted')\n",
    "ax.set_ylabel('Residuals')\n",
    "plt.show()"
   ]
  }
 ],
 "metadata": {
  "kernelspec": {
   "display_name": "Python 3",
   "language": "python",
   "name": "python3"
  },
  "language_info": {
   "codemirror_mode": {
    "name": "ipython",
    "version": 3
   },
   "file_extension": ".py",
   "mimetype": "text/x-python",
   "name": "python",
   "nbconvert_exporter": "python",
   "pygments_lexer": "ipython3",
   "version": "3.8.3"
  }
 },
 "nbformat": 4,
 "nbformat_minor": 4
}
