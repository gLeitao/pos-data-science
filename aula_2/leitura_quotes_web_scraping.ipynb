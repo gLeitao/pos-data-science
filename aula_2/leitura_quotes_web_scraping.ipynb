{
 "cells": [
  {
   "cell_type": "code",
   "execution_count": 1,
   "metadata": {},
   "outputs": [],
   "source": [
    "import pandas as pd"
   ]
  },
  {
   "cell_type": "code",
   "execution_count": 2,
   "metadata": {},
   "outputs": [],
   "source": [
    "df = pd.read_csv('aula_2_exemplo_web_scraping/quotes.csv')"
   ]
  },
  {
   "cell_type": "code",
   "execution_count": 3,
   "metadata": {},
   "outputs": [
    {
     "data": {
      "text/html": [
       "<div>\n",
       "<style scoped>\n",
       "    .dataframe tbody tr th:only-of-type {\n",
       "        vertical-align: middle;\n",
       "    }\n",
       "\n",
       "    .dataframe tbody tr th {\n",
       "        vertical-align: top;\n",
       "    }\n",
       "\n",
       "    .dataframe thead th {\n",
       "        text-align: right;\n",
       "    }\n",
       "</style>\n",
       "<table border=\"1\" class=\"dataframe\">\n",
       "  <thead>\n",
       "    <tr style=\"text-align: right;\">\n",
       "      <th></th>\n",
       "      <th>text</th>\n",
       "      <th>author</th>\n",
       "    </tr>\n",
       "  </thead>\n",
       "  <tbody>\n",
       "    <tr>\n",
       "      <th>0</th>\n",
       "      <td>“The world as we have created it is a process ...</td>\n",
       "      <td>Albert Einstein</td>\n",
       "    </tr>\n",
       "    <tr>\n",
       "      <th>1</th>\n",
       "      <td>“It is our choices, Harry, that show what we t...</td>\n",
       "      <td>J.K. Rowling</td>\n",
       "    </tr>\n",
       "    <tr>\n",
       "      <th>2</th>\n",
       "      <td>“There are only two ways to live your life. On...</td>\n",
       "      <td>Albert Einstein</td>\n",
       "    </tr>\n",
       "    <tr>\n",
       "      <th>3</th>\n",
       "      <td>“The person, be it gentleman or lady, who has ...</td>\n",
       "      <td>Jane Austen</td>\n",
       "    </tr>\n",
       "    <tr>\n",
       "      <th>4</th>\n",
       "      <td>“Imperfection is beauty, madness is genius and...</td>\n",
       "      <td>Marilyn Monroe</td>\n",
       "    </tr>\n",
       "  </tbody>\n",
       "</table>\n",
       "</div>"
      ],
      "text/plain": [
       "                                                text           author\n",
       "0  “The world as we have created it is a process ...  Albert Einstein\n",
       "1  “It is our choices, Harry, that show what we t...     J.K. Rowling\n",
       "2  “There are only two ways to live your life. On...  Albert Einstein\n",
       "3  “The person, be it gentleman or lady, who has ...      Jane Austen\n",
       "4  “Imperfection is beauty, madness is genius and...   Marilyn Monroe"
      ]
     },
     "execution_count": 3,
     "metadata": {},
     "output_type": "execute_result"
    }
   ],
   "source": [
    "df.head()"
   ]
  },
  {
   "cell_type": "code",
   "execution_count": 5,
   "metadata": {},
   "outputs": [
    {
     "data": {
      "text/plain": [
       "Albert Einstein           10\n",
       "J.K. Rowling               9\n",
       "Marilyn Monroe             7\n",
       "Mark Twain                 6\n",
       "Dr. Seuss                  6\n",
       "C.S. Lewis                 5\n",
       "Jane Austen                5\n",
       "Bob Marley                 3\n",
       "Eleanor Roosevelt          2\n",
       "Mother Teresa              2\n",
       "Ralph Waldo Emerson        2\n",
       "Suzanne Collins            2\n",
       "Charles Bukowski           2\n",
       "Ernest Hemingway           2\n",
       "George R.R. Martin         2\n",
       "Helen Keller               1\n",
       "William Nicholson          1\n",
       "George Bernard Shaw        1\n",
       "Steve Martin               1\n",
       "Friedrich Nietzsche        1\n",
       "Khaled Hosseini            1\n",
       "Alexandre Dumas fils       1\n",
       "J.D. Salinger              1\n",
       "Haruki Murakami            1\n",
       "Charles M. Schulz          1\n",
       "Jorge Luis Borges          1\n",
       "E.E. Cummings              1\n",
       "Thomas A. Edison           1\n",
       "Madeleine L'Engle          1\n",
       "Douglas Adams              1\n",
       "Pablo Neruda               1\n",
       "Harper Lee                 1\n",
       "Garrison Keillor           1\n",
       "Alfred Tennyson            1\n",
       "Stephenie Meyer            1\n",
       "Elie Wiesel                1\n",
       "J.M. Barrie                1\n",
       "W.C. Fields                1\n",
       "James Baldwin              1\n",
       "Martin Luther King Jr.     1\n",
       "George Carlin              1\n",
       "Jimi Hendrix               1\n",
       "J.R.R. Tolkien             1\n",
       "Terry Pratchett            1\n",
       "André Gide                 1\n",
       "John Lennon                1\n",
       "Jim Henson                 1\n",
       "Allen Saunders             1\n",
       "Ayn Rand                   1\n",
       "George Eliot               1\n",
       "Name: author, dtype: int64"
      ]
     },
     "execution_count": 5,
     "metadata": {},
     "output_type": "execute_result"
    }
   ],
   "source": [
    "df.author.value_counts()"
   ]
  },
  {
   "cell_type": "code",
   "execution_count": null,
   "metadata": {},
   "outputs": [],
   "source": []
  }
 ],
 "metadata": {
  "kernelspec": {
   "display_name": "Python 3",
   "language": "python",
   "name": "python3"
  },
  "language_info": {
   "codemirror_mode": {
    "name": "ipython",
    "version": 3
   },
   "file_extension": ".py",
   "mimetype": "text/x-python",
   "name": "python",
   "nbconvert_exporter": "python",
   "pygments_lexer": "ipython3",
   "version": "3.7.4"
  }
 },
 "nbformat": 4,
 "nbformat_minor": 2
}
